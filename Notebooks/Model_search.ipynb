{
 "cells": [
  {
   "cell_type": "markdown",
   "metadata": {},
   "source": [
    "# Telecom Churn Identification Project\n",
    "\n",
    "## Preliminary Modeling and Grid Search\n",
    "\n",
    "This file uses grid search cross validation on each of the following models to find the best parameters for each.  Models tested are:<br>\n",
    "<ul>\n",
    "    <li>Logistic Regression</li>\n",
    "    <li>K Nearest Neighbors</li>\n",
    "    <li>Random Forest</li>\n",
    "    <li>Support Vector Classifier</li>\n",
    "    <li>Naive Bayes</li>\n",
    "</ul><br>\n",
    "I then compare common metrics for each of the models for use in final model evaluation.\n"
   ]
  },
  {
   "cell_type": "markdown",
   "metadata": {},
   "source": [
    "----\n",
    "\n",
    "#### Import the tools we need\n",
    "\n",
    "----"
   ]
  },
  {
   "cell_type": "code",
   "execution_count": 1,
   "metadata": {},
   "outputs": [],
   "source": [
    "import os\n",
    "import sys\n",
    "import time\n",
    "\n",
    "import numpy as np\n",
    "import pandas as pd\n",
    "\n",
    "import matplotlib.pyplot as plt\n",
    "import matplotlib\n",
    "from mpl_toolkits.mplot3d import Axes3D\n",
    "import seaborn as sns\n",
    "\n",
    "import plotly.express as px\n",
    "import plotly.figure_factory as ff\n",
    "import plotly.graph_objs as go\n",
    "\n",
    "sys.path.append('/Users/maboals/Documents/Work/Programming/PyStuff/MyTools/src')\n",
    "from MLModelingTools import model_test, model_testN\n",
    "\n",
    "sys.path.append('../src')\n",
    "from my_eval_tools import calc_roc_data\n",
    "from my_eval_tools import calc_hybrid_roc_data \n",
    "from my_eval_tools import hybrid_predict, hybrid_predict_proba\n",
    "from my_eval_tools import calc_pr_sweep\n",
    "from my_eval_tools import predict_sweep\n"
   ]
  },
  {
   "cell_type": "code",
   "execution_count": 2,
   "metadata": {},
   "outputs": [
    {
     "name": "stderr",
     "output_type": "stream",
     "text": [
      "/Users/maboals/opt/anaconda3/lib/python3.7/site-packages/sklearn/utils/deprecation.py:144: FutureWarning:\n",
      "\n",
      "The sklearn.metrics.classification module is  deprecated in version 0.22 and will be removed in version 0.24. The corresponding classes / functions should instead be imported from sklearn.metrics. Anything that cannot be imported from sklearn.metrics is now part of the private API.\n",
      "\n",
      "Using TensorFlow backend.\n"
     ]
    }
   ],
   "source": [
    "from sklearn.tree import DecisionTreeClassifier\n",
    "from sklearn.svm import LinearSVC\n",
    "from sklearn.svm import SVC\n",
    "from sklearn.ensemble import RandomForestClassifier\n",
    "from sklearn.linear_model import LogisticRegression\n",
    "from sklearn.neighbors import KNeighborsClassifier\n",
    "from sklearn.naive_bayes import GaussianNB\n",
    "\n",
    "from sklearn.preprocessing import StandardScaler\n",
    "from sklearn.model_selection import train_test_split\n",
    "from sklearn.metrics import precision_score, recall_score, precision_recall_curve,f1_score, fbeta_score\n",
    "\n",
    "from sklearn.neighbors import KNeighborsClassifier\n",
    "from sklearn.metrics import accuracy_score\n",
    "\n",
    "from yellowbrick.classifier import ClassificationReport\n",
    "from sklearn.metrics import confusion_matrix\n",
    "\n",
    "from imblearn.over_sampling import SMOTE\n",
    "from imblearn.pipeline import Pipeline\n",
    "\n",
    "from sklearn.model_selection import GridSearchCV"
   ]
  },
  {
   "cell_type": "markdown",
   "metadata": {},
   "source": [
    "----\n",
    "\n",
    "## Training Data\n",
    "\n",
    "\n",
    "----\n",
    "\n",
    "Read the training data file.  This file was created by running the notebooks:\n",
    "* Telecom to SQL\n",
    "* Telecom clean and eda"
   ]
  },
  {
   "cell_type": "code",
   "execution_count": 3,
   "metadata": {},
   "outputs": [],
   "source": [
    "# Read the csv file save by the clean/eda notebook\n",
    "train_df = pd.read_csv('../data/churn_train_clean.csv')\n",
    "\n",
    "\n",
    "# Sometimes the index column is read as an unnamed column, if so drop it\n",
    "if 'Unnamed: 0' in train_df.columns :\n",
    "    train_df = train_df.drop('Unnamed: 0', axis=1)\n",
    "    \n",
    "train_df.columns = ['customerID', 'SeniorCitizen', 'Partner', 'Dependents', 'Tenure',\n",
    "       'PhoneService', 'MultipleLines', 'OnlineSecurity', 'OnlineBackup',\n",
    "       'DeviceProtection', 'TechSupport', 'StreamingTV', 'StreamingMovies',\n",
    "       'PaperlessBilling', 'PaymentMethod', 'MonthlyCharges', 'TotalCharges',\n",
    "       'Churn', 'Month-to-month', 'One year', 'DSL', 'Fiber optic', 'Female']"
   ]
  },
  {
   "cell_type": "code",
   "execution_count": 4,
   "metadata": {},
   "outputs": [],
   "source": [
    "# Define which columns we're going to use in our modeling.\n",
    "train_columns1 = ['SeniorCitizen', 'Partner', 'Dependents', \\\n",
    "       'Tenure',   \\\n",
    "       'OnlineSecurity', 'OnlineBackup', 'DeviceProtection', 'TechSupport', \\\n",
    "       'StreamingTV', 'StreamingMovies', 'MonthlyCharges', 'TotalCharges', \\\n",
    "       'Month-to-month', 'Fiber optic'] #, 'One year', 'Female']\n",
    "\n",
    "train_columns2 = ['tenure', 'OnlineSecurity', 'Month-to-month', 'Fiber optic', 'MonthlyCharges']\n",
    "\n",
    "train_columns = train_columns1\n",
    "\n",
    "X = train_df[train_columns]\n",
    "y= train_df['Churn']"
   ]
  },
  {
   "cell_type": "code",
   "execution_count": 10,
   "metadata": {},
   "outputs": [
    {
     "data": {
      "application/vnd.plotly.v1+json": {
       "config": {
        "plotlyServerURL": "https://plot.ly"
       },
       "data": [
        {
         "colorscale": [
          [
           0,
           "rgb(247,251,255)"
          ],
          [
           0.125,
           "rgb(222,235,247)"
          ],
          [
           0.25,
           "rgb(198,219,239)"
          ],
          [
           0.375,
           "rgb(158,202,225)"
          ],
          [
           0.5,
           "rgb(107,174,214)"
          ],
          [
           0.625,
           "rgb(66,146,198)"
          ],
          [
           0.75,
           "rgb(33,113,181)"
          ],
          [
           0.875,
           "rgb(8,81,156)"
          ],
          [
           1,
           "rgb(8,48,107)"
          ]
         ],
         "hoverongaps": false,
         "type": "heatmap",
         "x": [
          "Churn  ",
          "SeniorCitizen  ",
          "Partner  ",
          "Dependents  ",
          "Tenure  ",
          "OnlineSecurity  ",
          "OnlineBackup  ",
          "DeviceProtection  ",
          "TechSupport  ",
          "StreamingTV  ",
          "StreamingMovies  ",
          "MonthlyCharges  ",
          "TotalCharges  ",
          "Month-to-month  ",
          "Fiber optic  "
         ],
         "y": [
          "Churn  ",
          "SeniorCitizen  ",
          "Partner  ",
          "Dependents  ",
          "Tenure  ",
          "OnlineSecurity  ",
          "OnlineBackup  ",
          "DeviceProtection  ",
          "TechSupport  ",
          "StreamingTV  ",
          "StreamingMovies  ",
          "MonthlyCharges  ",
          "TotalCharges  ",
          "Month-to-month  ",
          "Fiber optic  "
         ],
         "z": [
          [
           1,
           0.14654933293405958,
           -0.15005294395599403,
           -0.16448958313055884,
           -0.34551333036064374,
           -0.1723644230972459,
           -0.08141074139952574,
           -0.06296630230364969,
           -0.1588139322742945,
           0.05441360517922665,
           0.06015207117807634,
           0.18661475139465558,
           -0.19397238600671463,
           0.4005388040131659,
           0.3001124127926966
          ],
          [
           0.14654933293405958,
           1,
           0.01664833886193646,
           -0.21127128136278686,
           0.006169484734758077,
           -0.036738502353615754,
           0.07083573266804882,
           0.06783132904641191,
           -0.057096926464882146,
           0.10261667764413909,
           0.11937251970341073,
           0.21994485880988074,
           0.09390492682409426,
           0.1460994290572912,
           0.255583999708903
          ],
          [
           -0.15005294395599403,
           0.01664833886193646,
           1,
           0.44762872068299736,
           0.38244302347280085,
           0.15172363583297033,
           0.15387640606713818,
           0.15625393756742675,
           0.12558577264213236,
           0.12423568065673236,
           0.11065020572909895,
           0.10560277388612646,
           0.32451800100874895,
           -0.28891456694390344,
           0.009474317439692027
          ],
          [
           -0.16448958313055884,
           -0.21127128136278686,
           0.44762872068299736,
           1,
           0.16292050201266772,
           0.085853611537174,
           0.0279963317957199,
           0.010485279604664692,
           0.06685746477178425,
           -0.01708309411167768,
           -0.0373137491683053,
           -0.11492034109316536,
           0.06340003377041384,
           -0.22876152660555235,
           -0.16942605559861387
          ],
          [
           -0.34551333036064374,
           0.006169484734758077,
           0.38244302347280085,
           0.16292050201266772,
           1,
           0.3294587660243001,
           0.36196411917812343,
           0.36161239297280523,
           0.33050710266742356,
           0.28070184970409123,
           0.2921363272908301,
           0.25361774547351845,
           0.8275614326515636,
           -0.6446124823123554,
           0.02508753941070485
          ],
          [
           -0.1723644230972459,
           -0.036738502353615754,
           0.15172363583297033,
           0.085853611537174,
           0.3294587660243001,
           1,
           0.2867815828108228,
           0.279770703105377,
           0.34658582233355983,
           0.18901446904341407,
           0.19677726001409798,
           0.30134257254735686,
           0.41395903567075804,
           -0.24460426768778057,
           -0.031081457267509622
          ],
          [
           -0.08141074139952574,
           0.07083573266804882,
           0.15387640606713818,
           0.0279963317957199,
           0.36196411917812343,
           0.2867815828108228,
           1,
           0.30718478342555905,
           0.2903228333432443,
           0.2814692671530978,
           0.28884981196279,
           0.4460478117607745,
           0.5111705563562311,
           -0.16196713543769836,
           0.16771541847488328
          ],
          [
           -0.06296630230364969,
           0.06783132904641191,
           0.15625393756742675,
           0.010485279604664692,
           0.36161239297280523,
           0.279770703105377,
           0.30718478342555905,
           1,
           0.3381826087133359,
           0.39321485669356276,
           0.41291157752553564,
           0.48339924882079344,
           0.5222189899606808,
           -0.2289881604819133,
           0.1739928360715317
          ],
          [
           -0.1588139322742945,
           -0.057096926464882146,
           0.12558577264213236,
           0.06685746477178425,
           0.33050710266742356,
           0.34658582233355983,
           0.2903228333432443,
           0.3381826087133359,
           1,
           0.29018996761788407,
           0.2892151280014277,
           0.3460621036489853,
           0.43977287634426426,
           -0.2907089360210319,
           -0.014368076830657928
          ],
          [
           0.05441360517922665,
           0.10261667764413909,
           0.12423568065673236,
           -0.01708309411167768,
           0.28070184970409123,
           0.18901446904341407,
           0.2814692671530978,
           0.39321485669356276,
           0.29018996761788407,
           1,
           0.5371052575167651,
           0.6307467975813661,
           0.5135127308644414,
           -0.11827834800951988,
           0.3250480033373338
          ],
          [
           0.06015207117807634,
           0.11937251970341073,
           0.11065020572909895,
           -0.0373137491683053,
           0.2921363272908301,
           0.19677726001409798,
           0.28884981196279,
           0.41291157752553564,
           0.2892151280014277,
           0.5371052575167651,
           1,
           0.6306381583052989,
           0.525159027000188,
           -0.12291593500873271,
           0.3178663648480227
          ],
          [
           0.18661475139465558,
           0.21994485880988074,
           0.10560277388612646,
           -0.11492034109316536,
           0.25361774547351845,
           0.30134257254735686,
           0.4460478117607745,
           0.48339924882079344,
           0.3460621036489853,
           0.6307467975813661,
           0.6306381583052989,
           1,
           0.6543497737892756,
           0.05507398456907873,
           0.7844581264925264
          ],
          [
           -0.19397238600671463,
           0.09390492682409426,
           0.32451800100874895,
           0.06340003377041384,
           0.8275614326515636,
           0.41395903567075804,
           0.5111705563562311,
           0.5222189899606808,
           0.43977287634426426,
           0.5135127308644414,
           0.525159027000188,
           0.6543497737892756,
           1,
           -0.4445673292400541,
           0.36393292463885707
          ],
          [
           0.4005388040131659,
           0.1460994290572912,
           -0.28891456694390344,
           -0.22876152660555235,
           -0.6446124823123554,
           -0.24460426768778057,
           -0.16196713543769836,
           -0.2289881604819133,
           -0.2907089360210319,
           -0.11827834800951988,
           -0.12291593500873271,
           0.05507398456907873,
           -0.4445673292400541,
           1,
           0.24085648463996065
          ],
          [
           0.3001124127926966,
           0.255583999708903,
           0.009474317439692027,
           -0.16942605559861387,
           0.02508753941070485,
           -0.031081457267509622,
           0.16771541847488328,
           0.1739928360715317,
           -0.014368076830657928,
           0.3250480033373338,
           0.3178663648480227,
           0.7844581264925264,
           0.36393292463885707,
           0.24085648463996065,
           1
          ]
         ]
        }
       ],
       "layout": {
        "font": {
         "color": "black",
         "family": "Helvetica",
         "size": 16
        },
        "height": 800,
        "paper_bgcolor": "rgba(0, 0, 0, 0)",
        "plot_bgcolor": "rgba(0, 0, 0, 0)",
        "template": {
         "data": {
          "bar": [
           {
            "error_x": {
             "color": "#2a3f5f"
            },
            "error_y": {
             "color": "#2a3f5f"
            },
            "marker": {
             "line": {
              "color": "#E5ECF6",
              "width": 0.5
             }
            },
            "type": "bar"
           }
          ],
          "barpolar": [
           {
            "marker": {
             "line": {
              "color": "#E5ECF6",
              "width": 0.5
             }
            },
            "type": "barpolar"
           }
          ],
          "carpet": [
           {
            "aaxis": {
             "endlinecolor": "#2a3f5f",
             "gridcolor": "white",
             "linecolor": "white",
             "minorgridcolor": "white",
             "startlinecolor": "#2a3f5f"
            },
            "baxis": {
             "endlinecolor": "#2a3f5f",
             "gridcolor": "white",
             "linecolor": "white",
             "minorgridcolor": "white",
             "startlinecolor": "#2a3f5f"
            },
            "type": "carpet"
           }
          ],
          "choropleth": [
           {
            "colorbar": {
             "outlinewidth": 0,
             "ticks": ""
            },
            "type": "choropleth"
           }
          ],
          "contour": [
           {
            "colorbar": {
             "outlinewidth": 0,
             "ticks": ""
            },
            "colorscale": [
             [
              0,
              "#0d0887"
             ],
             [
              0.1111111111111111,
              "#46039f"
             ],
             [
              0.2222222222222222,
              "#7201a8"
             ],
             [
              0.3333333333333333,
              "#9c179e"
             ],
             [
              0.4444444444444444,
              "#bd3786"
             ],
             [
              0.5555555555555556,
              "#d8576b"
             ],
             [
              0.6666666666666666,
              "#ed7953"
             ],
             [
              0.7777777777777778,
              "#fb9f3a"
             ],
             [
              0.8888888888888888,
              "#fdca26"
             ],
             [
              1,
              "#f0f921"
             ]
            ],
            "type": "contour"
           }
          ],
          "contourcarpet": [
           {
            "colorbar": {
             "outlinewidth": 0,
             "ticks": ""
            },
            "type": "contourcarpet"
           }
          ],
          "heatmap": [
           {
            "colorbar": {
             "outlinewidth": 0,
             "ticks": ""
            },
            "colorscale": [
             [
              0,
              "#0d0887"
             ],
             [
              0.1111111111111111,
              "#46039f"
             ],
             [
              0.2222222222222222,
              "#7201a8"
             ],
             [
              0.3333333333333333,
              "#9c179e"
             ],
             [
              0.4444444444444444,
              "#bd3786"
             ],
             [
              0.5555555555555556,
              "#d8576b"
             ],
             [
              0.6666666666666666,
              "#ed7953"
             ],
             [
              0.7777777777777778,
              "#fb9f3a"
             ],
             [
              0.8888888888888888,
              "#fdca26"
             ],
             [
              1,
              "#f0f921"
             ]
            ],
            "type": "heatmap"
           }
          ],
          "heatmapgl": [
           {
            "colorbar": {
             "outlinewidth": 0,
             "ticks": ""
            },
            "colorscale": [
             [
              0,
              "#0d0887"
             ],
             [
              0.1111111111111111,
              "#46039f"
             ],
             [
              0.2222222222222222,
              "#7201a8"
             ],
             [
              0.3333333333333333,
              "#9c179e"
             ],
             [
              0.4444444444444444,
              "#bd3786"
             ],
             [
              0.5555555555555556,
              "#d8576b"
             ],
             [
              0.6666666666666666,
              "#ed7953"
             ],
             [
              0.7777777777777778,
              "#fb9f3a"
             ],
             [
              0.8888888888888888,
              "#fdca26"
             ],
             [
              1,
              "#f0f921"
             ]
            ],
            "type": "heatmapgl"
           }
          ],
          "histogram": [
           {
            "marker": {
             "colorbar": {
              "outlinewidth": 0,
              "ticks": ""
             }
            },
            "type": "histogram"
           }
          ],
          "histogram2d": [
           {
            "colorbar": {
             "outlinewidth": 0,
             "ticks": ""
            },
            "colorscale": [
             [
              0,
              "#0d0887"
             ],
             [
              0.1111111111111111,
              "#46039f"
             ],
             [
              0.2222222222222222,
              "#7201a8"
             ],
             [
              0.3333333333333333,
              "#9c179e"
             ],
             [
              0.4444444444444444,
              "#bd3786"
             ],
             [
              0.5555555555555556,
              "#d8576b"
             ],
             [
              0.6666666666666666,
              "#ed7953"
             ],
             [
              0.7777777777777778,
              "#fb9f3a"
             ],
             [
              0.8888888888888888,
              "#fdca26"
             ],
             [
              1,
              "#f0f921"
             ]
            ],
            "type": "histogram2d"
           }
          ],
          "histogram2dcontour": [
           {
            "colorbar": {
             "outlinewidth": 0,
             "ticks": ""
            },
            "colorscale": [
             [
              0,
              "#0d0887"
             ],
             [
              0.1111111111111111,
              "#46039f"
             ],
             [
              0.2222222222222222,
              "#7201a8"
             ],
             [
              0.3333333333333333,
              "#9c179e"
             ],
             [
              0.4444444444444444,
              "#bd3786"
             ],
             [
              0.5555555555555556,
              "#d8576b"
             ],
             [
              0.6666666666666666,
              "#ed7953"
             ],
             [
              0.7777777777777778,
              "#fb9f3a"
             ],
             [
              0.8888888888888888,
              "#fdca26"
             ],
             [
              1,
              "#f0f921"
             ]
            ],
            "type": "histogram2dcontour"
           }
          ],
          "mesh3d": [
           {
            "colorbar": {
             "outlinewidth": 0,
             "ticks": ""
            },
            "type": "mesh3d"
           }
          ],
          "parcoords": [
           {
            "line": {
             "colorbar": {
              "outlinewidth": 0,
              "ticks": ""
             }
            },
            "type": "parcoords"
           }
          ],
          "pie": [
           {
            "automargin": true,
            "type": "pie"
           }
          ],
          "scatter": [
           {
            "marker": {
             "colorbar": {
              "outlinewidth": 0,
              "ticks": ""
             }
            },
            "type": "scatter"
           }
          ],
          "scatter3d": [
           {
            "line": {
             "colorbar": {
              "outlinewidth": 0,
              "ticks": ""
             }
            },
            "marker": {
             "colorbar": {
              "outlinewidth": 0,
              "ticks": ""
             }
            },
            "type": "scatter3d"
           }
          ],
          "scattercarpet": [
           {
            "marker": {
             "colorbar": {
              "outlinewidth": 0,
              "ticks": ""
             }
            },
            "type": "scattercarpet"
           }
          ],
          "scattergeo": [
           {
            "marker": {
             "colorbar": {
              "outlinewidth": 0,
              "ticks": ""
             }
            },
            "type": "scattergeo"
           }
          ],
          "scattergl": [
           {
            "marker": {
             "colorbar": {
              "outlinewidth": 0,
              "ticks": ""
             }
            },
            "type": "scattergl"
           }
          ],
          "scattermapbox": [
           {
            "marker": {
             "colorbar": {
              "outlinewidth": 0,
              "ticks": ""
             }
            },
            "type": "scattermapbox"
           }
          ],
          "scatterpolar": [
           {
            "marker": {
             "colorbar": {
              "outlinewidth": 0,
              "ticks": ""
             }
            },
            "type": "scatterpolar"
           }
          ],
          "scatterpolargl": [
           {
            "marker": {
             "colorbar": {
              "outlinewidth": 0,
              "ticks": ""
             }
            },
            "type": "scatterpolargl"
           }
          ],
          "scatterternary": [
           {
            "marker": {
             "colorbar": {
              "outlinewidth": 0,
              "ticks": ""
             }
            },
            "type": "scatterternary"
           }
          ],
          "surface": [
           {
            "colorbar": {
             "outlinewidth": 0,
             "ticks": ""
            },
            "colorscale": [
             [
              0,
              "#0d0887"
             ],
             [
              0.1111111111111111,
              "#46039f"
             ],
             [
              0.2222222222222222,
              "#7201a8"
             ],
             [
              0.3333333333333333,
              "#9c179e"
             ],
             [
              0.4444444444444444,
              "#bd3786"
             ],
             [
              0.5555555555555556,
              "#d8576b"
             ],
             [
              0.6666666666666666,
              "#ed7953"
             ],
             [
              0.7777777777777778,
              "#fb9f3a"
             ],
             [
              0.8888888888888888,
              "#fdca26"
             ],
             [
              1,
              "#f0f921"
             ]
            ],
            "type": "surface"
           }
          ],
          "table": [
           {
            "cells": {
             "fill": {
              "color": "#EBF0F8"
             },
             "line": {
              "color": "white"
             }
            },
            "header": {
             "fill": {
              "color": "#C8D4E3"
             },
             "line": {
              "color": "white"
             }
            },
            "type": "table"
           }
          ]
         },
         "layout": {
          "annotationdefaults": {
           "arrowcolor": "#2a3f5f",
           "arrowhead": 0,
           "arrowwidth": 1
          },
          "coloraxis": {
           "colorbar": {
            "outlinewidth": 0,
            "ticks": ""
           }
          },
          "colorscale": {
           "diverging": [
            [
             0,
             "#8e0152"
            ],
            [
             0.1,
             "#c51b7d"
            ],
            [
             0.2,
             "#de77ae"
            ],
            [
             0.3,
             "#f1b6da"
            ],
            [
             0.4,
             "#fde0ef"
            ],
            [
             0.5,
             "#f7f7f7"
            ],
            [
             0.6,
             "#e6f5d0"
            ],
            [
             0.7,
             "#b8e186"
            ],
            [
             0.8,
             "#7fbc41"
            ],
            [
             0.9,
             "#4d9221"
            ],
            [
             1,
             "#276419"
            ]
           ],
           "sequential": [
            [
             0,
             "#0d0887"
            ],
            [
             0.1111111111111111,
             "#46039f"
            ],
            [
             0.2222222222222222,
             "#7201a8"
            ],
            [
             0.3333333333333333,
             "#9c179e"
            ],
            [
             0.4444444444444444,
             "#bd3786"
            ],
            [
             0.5555555555555556,
             "#d8576b"
            ],
            [
             0.6666666666666666,
             "#ed7953"
            ],
            [
             0.7777777777777778,
             "#fb9f3a"
            ],
            [
             0.8888888888888888,
             "#fdca26"
            ],
            [
             1,
             "#f0f921"
            ]
           ],
           "sequentialminus": [
            [
             0,
             "#0d0887"
            ],
            [
             0.1111111111111111,
             "#46039f"
            ],
            [
             0.2222222222222222,
             "#7201a8"
            ],
            [
             0.3333333333333333,
             "#9c179e"
            ],
            [
             0.4444444444444444,
             "#bd3786"
            ],
            [
             0.5555555555555556,
             "#d8576b"
            ],
            [
             0.6666666666666666,
             "#ed7953"
            ],
            [
             0.7777777777777778,
             "#fb9f3a"
            ],
            [
             0.8888888888888888,
             "#fdca26"
            ],
            [
             1,
             "#f0f921"
            ]
           ]
          },
          "colorway": [
           "#636efa",
           "#EF553B",
           "#00cc96",
           "#ab63fa",
           "#FFA15A",
           "#19d3f3",
           "#FF6692",
           "#B6E880",
           "#FF97FF",
           "#FECB52"
          ],
          "font": {
           "color": "#2a3f5f"
          },
          "geo": {
           "bgcolor": "white",
           "lakecolor": "white",
           "landcolor": "#E5ECF6",
           "showlakes": true,
           "showland": true,
           "subunitcolor": "white"
          },
          "hoverlabel": {
           "align": "left"
          },
          "hovermode": "closest",
          "mapbox": {
           "style": "light"
          },
          "paper_bgcolor": "white",
          "plot_bgcolor": "#E5ECF6",
          "polar": {
           "angularaxis": {
            "gridcolor": "white",
            "linecolor": "white",
            "ticks": ""
           },
           "bgcolor": "#E5ECF6",
           "radialaxis": {
            "gridcolor": "white",
            "linecolor": "white",
            "ticks": ""
           }
          },
          "scene": {
           "xaxis": {
            "backgroundcolor": "#E5ECF6",
            "gridcolor": "white",
            "gridwidth": 2,
            "linecolor": "white",
            "showbackground": true,
            "ticks": "",
            "zerolinecolor": "white"
           },
           "yaxis": {
            "backgroundcolor": "#E5ECF6",
            "gridcolor": "white",
            "gridwidth": 2,
            "linecolor": "white",
            "showbackground": true,
            "ticks": "",
            "zerolinecolor": "white"
           },
           "zaxis": {
            "backgroundcolor": "#E5ECF6",
            "gridcolor": "white",
            "gridwidth": 2,
            "linecolor": "white",
            "showbackground": true,
            "ticks": "",
            "zerolinecolor": "white"
           }
          },
          "shapedefaults": {
           "line": {
            "color": "#2a3f5f"
           }
          },
          "ternary": {
           "aaxis": {
            "gridcolor": "white",
            "linecolor": "white",
            "ticks": ""
           },
           "baxis": {
            "gridcolor": "white",
            "linecolor": "white",
            "ticks": ""
           },
           "bgcolor": "#E5ECF6",
           "caxis": {
            "gridcolor": "white",
            "linecolor": "white",
            "ticks": ""
           }
          },
          "title": {
           "x": 0.05
          },
          "xaxis": {
           "automargin": true,
           "gridcolor": "white",
           "linecolor": "white",
           "ticks": "",
           "title": {
            "standoff": 15
           },
           "zerolinecolor": "white",
           "zerolinewidth": 2
          },
          "yaxis": {
           "automargin": true,
           "gridcolor": "white",
           "linecolor": "white",
           "ticks": "",
           "title": {
            "standoff": 15
           },
           "zerolinecolor": "white",
           "zerolinewidth": 2
          }
         }
        },
        "title": {
         "text": "Correlation Heatmap",
         "x": 0.5,
         "xanchor": "center",
         "y": 0.95,
         "yanchor": "top"
        },
        "width": 800,
        "xaxis": {
         "autorange": true,
         "range": [
          -0.5,
          14.5
         ],
         "tickangle": 45,
         "type": "category"
        },
        "yaxis": {
         "autorange": true,
         "range": [
          -0.5,
          14.5
         ],
         "type": "category"
        }
       }
      },
      "image/png": "[encoded data removed]",
      "text/html": [
       "<div>\n",
       "        \n",
       "        \n",
       "            <div id=\"304a9a4d-4891-4b8f-8adc-9cbc2aa74e48\" class=\"plotly-graph-div\" style=\"height:800px; width:800px;\"></div>\n",
       "            <script type=\"text/javascript\">\n",
       "                require([\"plotly\"], function(Plotly) {\n",
       "                    window.PLOTLYENV=window.PLOTLYENV || {};\n",
       "                    \n",
       "                if (document.getElementById(\"304a9a4d-4891-4b8f-8adc-9cbc2aa74e48\")) {\n",
       "                    Plotly.newPlot(\n",
       "                        '304a9a4d-4891-4b8f-8adc-9cbc2aa74e48',\n",
       "                        [{\"colorscale\": [[0.0, \"rgb(247,251,255)\"], [0.125, \"rgb(222,235,247)\"], [0.25, \"rgb(198,219,239)\"], [0.375, \"rgb(158,202,225)\"], [0.5, \"rgb(107,174,214)\"], [0.625, \"rgb(66,146,198)\"], [0.75, \"rgb(33,113,181)\"], [0.875, \"rgb(8,81,156)\"], [1.0, \"rgb(8,48,107)\"]], \"hoverongaps\": false, \"type\": \"heatmap\", \"x\": [\"Churn  \", \"SeniorCitizen  \", \"Partner  \", \"Dependents  \", \"Tenure  \", \"OnlineSecurity  \", \"OnlineBackup  \", \"DeviceProtection  \", \"TechSupport  \", \"StreamingTV  \", \"StreamingMovies  \", \"MonthlyCharges  \", \"TotalCharges  \", \"Month-to-month  \", \"Fiber optic  \"], \"y\": [\"Churn  \", \"SeniorCitizen  \", \"Partner  \", \"Dependents  \", \"Tenure  \", \"OnlineSecurity  \", \"OnlineBackup  \", \"DeviceProtection  \", \"TechSupport  \", \"StreamingTV  \", \"StreamingMovies  \", \"MonthlyCharges  \", \"TotalCharges  \", \"Month-to-month  \", \"Fiber optic  \"], \"z\": [[1.0, 0.14654933293405958, -0.15005294395599403, -0.16448958313055884, -0.34551333036064374, -0.1723644230972459, -0.08141074139952574, -0.06296630230364969, -0.1588139322742945, 0.05441360517922665, 0.06015207117807634, 0.18661475139465558, -0.19397238600671463, 0.4005388040131659, 0.3001124127926966], [0.14654933293405958, 1.0, 0.01664833886193646, -0.21127128136278686, 0.006169484734758077, -0.036738502353615754, 0.07083573266804882, 0.06783132904641191, -0.057096926464882146, 0.10261667764413909, 0.11937251970341073, 0.21994485880988074, 0.09390492682409426, 0.1460994290572912, 0.255583999708903], [-0.15005294395599403, 0.01664833886193646, 1.0, 0.44762872068299736, 0.38244302347280085, 0.15172363583297033, 0.15387640606713818, 0.15625393756742675, 0.12558577264213236, 0.12423568065673236, 0.11065020572909895, 0.10560277388612646, 0.32451800100874895, -0.28891456694390344, 0.009474317439692027], [-0.16448958313055884, -0.21127128136278686, 0.44762872068299736, 1.0, 0.16292050201266772, 0.085853611537174, 0.0279963317957199, 0.010485279604664692, 0.06685746477178425, -0.01708309411167768, -0.0373137491683053, -0.11492034109316536, 0.06340003377041384, -0.22876152660555235, -0.16942605559861387], [-0.34551333036064374, 0.006169484734758077, 0.38244302347280085, 0.16292050201266772, 1.0, 0.3294587660243001, 0.36196411917812343, 0.36161239297280523, 0.33050710266742356, 0.28070184970409123, 0.2921363272908301, 0.25361774547351845, 0.8275614326515636, -0.6446124823123554, 0.02508753941070485], [-0.1723644230972459, -0.036738502353615754, 0.15172363583297033, 0.085853611537174, 0.3294587660243001, 1.0, 0.2867815828108228, 0.279770703105377, 0.34658582233355983, 0.18901446904341407, 0.19677726001409798, 0.30134257254735686, 0.41395903567075804, -0.24460426768778057, -0.031081457267509622], [-0.08141074139952574, 0.07083573266804882, 0.15387640606713818, 0.0279963317957199, 0.36196411917812343, 0.2867815828108228, 1.0, 0.30718478342555905, 0.2903228333432443, 0.2814692671530978, 0.28884981196279, 0.4460478117607745, 0.5111705563562311, -0.16196713543769836, 0.16771541847488328], [-0.06296630230364969, 0.06783132904641191, 0.15625393756742675, 0.010485279604664692, 0.36161239297280523, 0.279770703105377, 0.30718478342555905, 1.0, 0.3381826087133359, 0.39321485669356276, 0.41291157752553564, 0.48339924882079344, 0.5222189899606808, -0.2289881604819133, 0.1739928360715317], [-0.1588139322742945, -0.057096926464882146, 0.12558577264213236, 0.06685746477178425, 0.33050710266742356, 0.34658582233355983, 0.2903228333432443, 0.3381826087133359, 1.0, 0.29018996761788407, 0.2892151280014277, 0.3460621036489853, 0.43977287634426426, -0.2907089360210319, -0.014368076830657928], [0.05441360517922665, 0.10261667764413909, 0.12423568065673236, -0.01708309411167768, 0.28070184970409123, 0.18901446904341407, 0.2814692671530978, 0.39321485669356276, 0.29018996761788407, 1.0, 0.5371052575167651, 0.6307467975813661, 0.5135127308644414, -0.11827834800951988, 0.3250480033373338], [0.06015207117807634, 0.11937251970341073, 0.11065020572909895, -0.0373137491683053, 0.2921363272908301, 0.19677726001409798, 0.28884981196279, 0.41291157752553564, 0.2892151280014277, 0.5371052575167651, 1.0, 0.6306381583052989, 0.525159027000188, -0.12291593500873271, 0.3178663648480227], [0.18661475139465558, 0.21994485880988074, 0.10560277388612646, -0.11492034109316536, 0.25361774547351845, 0.30134257254735686, 0.4460478117607745, 0.48339924882079344, 0.3460621036489853, 0.6307467975813661, 0.6306381583052989, 1.0, 0.6543497737892756, 0.05507398456907873, 0.7844581264925264], [-0.19397238600671463, 0.09390492682409426, 0.32451800100874895, 0.06340003377041384, 0.8275614326515636, 0.41395903567075804, 0.5111705563562311, 0.5222189899606808, 0.43977287634426426, 0.5135127308644414, 0.525159027000188, 0.6543497737892756, 1.0, -0.4445673292400541, 0.36393292463885707], [0.4005388040131659, 0.1460994290572912, -0.28891456694390344, -0.22876152660555235, -0.6446124823123554, -0.24460426768778057, -0.16196713543769836, -0.2289881604819133, -0.2907089360210319, -0.11827834800951988, -0.12291593500873271, 0.05507398456907873, -0.4445673292400541, 1.0, 0.24085648463996065], [0.3001124127926966, 0.255583999708903, 0.009474317439692027, -0.16942605559861387, 0.02508753941070485, -0.031081457267509622, 0.16771541847488328, 0.1739928360715317, -0.014368076830657928, 0.3250480033373338, 0.3178663648480227, 0.7844581264925264, 0.36393292463885707, 0.24085648463996065, 1.0]]}],\n",
       "                        {\"font\": {\"color\": \"black\", \"family\": \"Helvetica\", \"size\": 16}, \"height\": 800, \"paper_bgcolor\": \"rgba(0,0,0,0)\", \"plot_bgcolor\": \"rgba(0,0,0,0)\", \"template\": {\"data\": {\"bar\": [{\"error_x\": {\"color\": \"#2a3f5f\"}, \"error_y\": {\"color\": \"#2a3f5f\"}, \"marker\": {\"line\": {\"color\": \"#E5ECF6\", \"width\": 0.5}}, \"type\": \"bar\"}], \"barpolar\": [{\"marker\": {\"line\": {\"color\": \"#E5ECF6\", \"width\": 0.5}}, \"type\": \"barpolar\"}], \"carpet\": [{\"aaxis\": {\"endlinecolor\": \"#2a3f5f\", \"gridcolor\": \"white\", \"linecolor\": \"white\", \"minorgridcolor\": \"white\", \"startlinecolor\": \"#2a3f5f\"}, \"baxis\": {\"endlinecolor\": \"#2a3f5f\", \"gridcolor\": \"white\", \"linecolor\": \"white\", \"minorgridcolor\": \"white\", \"startlinecolor\": \"#2a3f5f\"}, \"type\": \"carpet\"}], \"choropleth\": [{\"colorbar\": {\"outlinewidth\": 0, \"ticks\": \"\"}, \"type\": \"choropleth\"}], \"contour\": [{\"colorbar\": {\"outlinewidth\": 0, \"ticks\": \"\"}, \"colorscale\": [[0.0, \"#0d0887\"], [0.1111111111111111, \"#46039f\"], [0.2222222222222222, \"#7201a8\"], [0.3333333333333333, \"#9c179e\"], [0.4444444444444444, \"#bd3786\"], [0.5555555555555556, \"#d8576b\"], [0.6666666666666666, \"#ed7953\"], [0.7777777777777778, \"#fb9f3a\"], [0.8888888888888888, \"#fdca26\"], [1.0, \"#f0f921\"]], \"type\": \"contour\"}], \"contourcarpet\": [{\"colorbar\": {\"outlinewidth\": 0, \"ticks\": \"\"}, \"type\": \"contourcarpet\"}], \"heatmap\": [{\"colorbar\": {\"outlinewidth\": 0, \"ticks\": \"\"}, \"colorscale\": [[0.0, \"#0d0887\"], [0.1111111111111111, \"#46039f\"], [0.2222222222222222, \"#7201a8\"], [0.3333333333333333, \"#9c179e\"], [0.4444444444444444, \"#bd3786\"], [0.5555555555555556, \"#d8576b\"], [0.6666666666666666, \"#ed7953\"], [0.7777777777777778, \"#fb9f3a\"], [0.8888888888888888, \"#fdca26\"], [1.0, \"#f0f921\"]], \"type\": \"heatmap\"}], \"heatmapgl\": [{\"colorbar\": {\"outlinewidth\": 0, \"ticks\": \"\"}, \"colorscale\": [[0.0, \"#0d0887\"], [0.1111111111111111, \"#46039f\"], [0.2222222222222222, \"#7201a8\"], [0.3333333333333333, \"#9c179e\"], [0.4444444444444444, \"#bd3786\"], [0.5555555555555556, \"#d8576b\"], [0.6666666666666666, \"#ed7953\"], [0.7777777777777778, \"#fb9f3a\"], [0.8888888888888888, \"#fdca26\"], [1.0, \"#f0f921\"]], \"type\": \"heatmapgl\"}], \"histogram\": [{\"marker\": {\"colorbar\": {\"outlinewidth\": 0, \"ticks\": \"\"}}, \"type\": \"histogram\"}], \"histogram2d\": [{\"colorbar\": {\"outlinewidth\": 0, \"ticks\": \"\"}, \"colorscale\": [[0.0, \"#0d0887\"], [0.1111111111111111, \"#46039f\"], [0.2222222222222222, \"#7201a8\"], [0.3333333333333333, \"#9c179e\"], [0.4444444444444444, \"#bd3786\"], [0.5555555555555556, \"#d8576b\"], [0.6666666666666666, \"#ed7953\"], [0.7777777777777778, \"#fb9f3a\"], [0.8888888888888888, \"#fdca26\"], [1.0, \"#f0f921\"]], \"type\": \"histogram2d\"}], \"histogram2dcontour\": [{\"colorbar\": {\"outlinewidth\": 0, \"ticks\": \"\"}, \"colorscale\": [[0.0, \"#0d0887\"], [0.1111111111111111, \"#46039f\"], [0.2222222222222222, \"#7201a8\"], [0.3333333333333333, \"#9c179e\"], [0.4444444444444444, \"#bd3786\"], [0.5555555555555556, \"#d8576b\"], [0.6666666666666666, \"#ed7953\"], [0.7777777777777778, \"#fb9f3a\"], [0.8888888888888888, \"#fdca26\"], [1.0, \"#f0f921\"]], \"type\": \"histogram2dcontour\"}], \"mesh3d\": [{\"colorbar\": {\"outlinewidth\": 0, \"ticks\": \"\"}, \"type\": \"mesh3d\"}], \"parcoords\": [{\"line\": {\"colorbar\": {\"outlinewidth\": 0, \"ticks\": \"\"}}, \"type\": \"parcoords\"}], \"pie\": [{\"automargin\": true, \"type\": \"pie\"}], \"scatter\": [{\"marker\": {\"colorbar\": {\"outlinewidth\": 0, \"ticks\": \"\"}}, \"type\": \"scatter\"}], \"scatter3d\": [{\"line\": {\"colorbar\": {\"outlinewidth\": 0, \"ticks\": \"\"}}, \"marker\": {\"colorbar\": {\"outlinewidth\": 0, \"ticks\": \"\"}}, \"type\": \"scatter3d\"}], \"scattercarpet\": [{\"marker\": {\"colorbar\": {\"outlinewidth\": 0, \"ticks\": \"\"}}, \"type\": \"scattercarpet\"}], \"scattergeo\": [{\"marker\": {\"colorbar\": {\"outlinewidth\": 0, \"ticks\": \"\"}}, \"type\": \"scattergeo\"}], \"scattergl\": [{\"marker\": {\"colorbar\": {\"outlinewidth\": 0, \"ticks\": \"\"}}, \"type\": \"scattergl\"}], \"scattermapbox\": [{\"marker\": {\"colorbar\": {\"outlinewidth\": 0, \"ticks\": \"\"}}, \"type\": \"scattermapbox\"}], \"scatterpolar\": [{\"marker\": {\"colorbar\": {\"outlinewidth\": 0, \"ticks\": \"\"}}, \"type\": \"scatterpolar\"}], \"scatterpolargl\": [{\"marker\": {\"colorbar\": {\"outlinewidth\": 0, \"ticks\": \"\"}}, \"type\": \"scatterpolargl\"}], \"scatterternary\": [{\"marker\": {\"colorbar\": {\"outlinewidth\": 0, \"ticks\": \"\"}}, \"type\": \"scatterternary\"}], \"surface\": [{\"colorbar\": {\"outlinewidth\": 0, \"ticks\": \"\"}, \"colorscale\": [[0.0, \"#0d0887\"], [0.1111111111111111, \"#46039f\"], [0.2222222222222222, \"#7201a8\"], [0.3333333333333333, \"#9c179e\"], [0.4444444444444444, \"#bd3786\"], [0.5555555555555556, \"#d8576b\"], [0.6666666666666666, \"#ed7953\"], [0.7777777777777778, \"#fb9f3a\"], [0.8888888888888888, \"#fdca26\"], [1.0, \"#f0f921\"]], \"type\": \"surface\"}], \"table\": [{\"cells\": {\"fill\": {\"color\": \"#EBF0F8\"}, \"line\": {\"color\": \"white\"}}, \"header\": {\"fill\": {\"color\": \"#C8D4E3\"}, \"line\": {\"color\": \"white\"}}, \"type\": \"table\"}]}, \"layout\": {\"annotationdefaults\": {\"arrowcolor\": \"#2a3f5f\", \"arrowhead\": 0, \"arrowwidth\": 1}, \"coloraxis\": {\"colorbar\": {\"outlinewidth\": 0, \"ticks\": \"\"}}, \"colorscale\": {\"diverging\": [[0, \"#8e0152\"], [0.1, \"#c51b7d\"], [0.2, \"#de77ae\"], [0.3, \"#f1b6da\"], [0.4, \"#fde0ef\"], [0.5, \"#f7f7f7\"], [0.6, \"#e6f5d0\"], [0.7, \"#b8e186\"], [0.8, \"#7fbc41\"], [0.9, \"#4d9221\"], [1, \"#276419\"]], \"sequential\": [[0.0, \"#0d0887\"], [0.1111111111111111, \"#46039f\"], [0.2222222222222222, \"#7201a8\"], [0.3333333333333333, \"#9c179e\"], [0.4444444444444444, \"#bd3786\"], [0.5555555555555556, \"#d8576b\"], [0.6666666666666666, \"#ed7953\"], [0.7777777777777778, \"#fb9f3a\"], [0.8888888888888888, \"#fdca26\"], [1.0, \"#f0f921\"]], \"sequentialminus\": [[0.0, \"#0d0887\"], [0.1111111111111111, \"#46039f\"], [0.2222222222222222, \"#7201a8\"], [0.3333333333333333, \"#9c179e\"], [0.4444444444444444, \"#bd3786\"], [0.5555555555555556, \"#d8576b\"], [0.6666666666666666, \"#ed7953\"], [0.7777777777777778, \"#fb9f3a\"], [0.8888888888888888, \"#fdca26\"], [1.0, \"#f0f921\"]]}, \"colorway\": [\"#636efa\", \"#EF553B\", \"#00cc96\", \"#ab63fa\", \"#FFA15A\", \"#19d3f3\", \"#FF6692\", \"#B6E880\", \"#FF97FF\", \"#FECB52\"], \"font\": {\"color\": \"#2a3f5f\"}, \"geo\": {\"bgcolor\": \"white\", \"lakecolor\": \"white\", \"landcolor\": \"#E5ECF6\", \"showlakes\": true, \"showland\": true, \"subunitcolor\": \"white\"}, \"hoverlabel\": {\"align\": \"left\"}, \"hovermode\": \"closest\", \"mapbox\": {\"style\": \"light\"}, \"paper_bgcolor\": \"white\", \"plot_bgcolor\": \"#E5ECF6\", \"polar\": {\"angularaxis\": {\"gridcolor\": \"white\", \"linecolor\": \"white\", \"ticks\": \"\"}, \"bgcolor\": \"#E5ECF6\", \"radialaxis\": {\"gridcolor\": \"white\", \"linecolor\": \"white\", \"ticks\": \"\"}}, \"scene\": {\"xaxis\": {\"backgroundcolor\": \"#E5ECF6\", \"gridcolor\": \"white\", \"gridwidth\": 2, \"linecolor\": \"white\", \"showbackground\": true, \"ticks\": \"\", \"zerolinecolor\": \"white\"}, \"yaxis\": {\"backgroundcolor\": \"#E5ECF6\", \"gridcolor\": \"white\", \"gridwidth\": 2, \"linecolor\": \"white\", \"showbackground\": true, \"ticks\": \"\", \"zerolinecolor\": \"white\"}, \"zaxis\": {\"backgroundcolor\": \"#E5ECF6\", \"gridcolor\": \"white\", \"gridwidth\": 2, \"linecolor\": \"white\", \"showbackground\": true, \"ticks\": \"\", \"zerolinecolor\": \"white\"}}, \"shapedefaults\": {\"line\": {\"color\": \"#2a3f5f\"}}, \"ternary\": {\"aaxis\": {\"gridcolor\": \"white\", \"linecolor\": \"white\", \"ticks\": \"\"}, \"baxis\": {\"gridcolor\": \"white\", \"linecolor\": \"white\", \"ticks\": \"\"}, \"bgcolor\": \"#E5ECF6\", \"caxis\": {\"gridcolor\": \"white\", \"linecolor\": \"white\", \"ticks\": \"\"}}, \"title\": {\"x\": 0.05}, \"xaxis\": {\"automargin\": true, \"gridcolor\": \"white\", \"linecolor\": \"white\", \"ticks\": \"\", \"title\": {\"standoff\": 15}, \"zerolinecolor\": \"white\", \"zerolinewidth\": 2}, \"yaxis\": {\"automargin\": true, \"gridcolor\": \"white\", \"linecolor\": \"white\", \"ticks\": \"\", \"title\": {\"standoff\": 15}, \"zerolinecolor\": \"white\", \"zerolinewidth\": 2}}}, \"title\": {\"text\": \"Correlation Heatmap\", \"x\": 0.5, \"xanchor\": \"center\", \"y\": 0.95, \"yanchor\": \"top\"}, \"width\": 800, \"xaxis\": {\"tickangle\": 45}},\n",
       "                        {\"responsive\": true}\n",
       "                    ).then(function(){\n",
       "                            \n",
       "var gd = document.getElementById('304a9a4d-4891-4b8f-8adc-9cbc2aa74e48');\n",
       "var x = new MutationObserver(function (mutations, observer) {{\n",
       "        var display = window.getComputedStyle(gd).display;\n",
       "        if (!display || display === 'none') {{\n",
       "            console.log([gd, 'removed!']);\n",
       "            Plotly.purge(gd);\n",
       "            observer.disconnect();\n",
       "        }}\n",
       "}});\n",
       "\n",
       "// Listen for the removal of the full notebook cells\n",
       "var notebookContainer = gd.closest('#notebook-container');\n",
       "if (notebookContainer) {{\n",
       "    x.observe(notebookContainer, {childList: true});\n",
       "}}\n",
       "\n",
       "// Listen for the clearing of the current output cell\n",
       "var outputEl = gd.closest('.output');\n",
       "if (outputEl) {{\n",
       "    x.observe(outputEl, {childList: true});\n",
       "}}\n",
       "\n",
       "                        })\n",
       "                };\n",
       "                });\n",
       "            </script>\n",
       "        </div>"
      ]
     },
     "metadata": {},
     "output_type": "display_data"
    },
    {
     "data": {
      "text/plain": [
       "'\\nfig.patch.set_alpha(0.)\\nsns.set(font_scale=1.5)\\ng = sns.heatmap(data=corr, cmap = \"Blues\")\\ng.set_xticklabels(corr.columns, fontsize = 16)\\ng.set_yticklabels(corr.columns, fontsize = 16)\\n\\n#sns.heatmap(corr, cmap=\\'Blues\\', )\\nplt.title(\\'Feature Correlation Heat Map\\n\\', size=30)\\nplt.savefig(\\'feature_heatmap.png\\', Transparent=True)\\n'"
      ]
     },
     "execution_count": 10,
     "metadata": {},
     "output_type": "execute_result"
    },
    {
     "data": {
      "text/plain": [
       "<Figure size 864x576 with 0 Axes>"
      ]
     },
     "metadata": {},
     "output_type": "display_data"
    }
   ],
   "source": [
    "corr = train_df[['Churn']+train_columns].corr()\n",
    "corr.columns = [corr.columns[x]+'  ' for x in range(len(corr.columns))]\n",
    "fig = plt.figure(figsize=[12,8])\n",
    "\n",
    "layout = go.Layout(paper_bgcolor = 'rgba(0,0,0,0)',\n",
    "            plot_bgcolor = 'rgba(0,0,0,0)',\n",
    "            width=800, height=800)\n",
    "\n",
    "fig = go.Figure(data=go.Heatmap(\n",
    "                z=corr,\n",
    "                x=corr.columns,\n",
    "                y=corr.columns,\n",
    "                colorscale='Blues',\n",
    "                hoverongaps = False),\n",
    "                layout=layout)\n",
    "\n",
    "fig.update_layout(\n",
    "    title={\n",
    "        'text': \"Correlation Heatmap\",\n",
    "        'x': 0.5, 'y': 0.95,\n",
    "        'xanchor': 'center',\n",
    "        'yanchor': 'top'},\n",
    "    \n",
    "        font=dict(\n",
    "            family=\"Helvetica\",\n",
    "            size=16,\n",
    "            color=\"black\"\n",
    "        ),\n",
    "    xaxis = { 'tickangle' : 45})\n",
    "                    \n",
    "fig.show(render='png')\n",
    "\n",
    "'''\n",
    "fig.patch.set_alpha(0.)\n",
    "sns.set(font_scale=1.5)\n",
    "g = sns.heatmap(data=corr, cmap = \"Blues\")\n",
    "g.set_xticklabels(corr.columns, fontsize = 16)\n",
    "g.set_yticklabels(corr.columns, fontsize = 16)\n",
    "\n",
    "#sns.heatmap(corr, cmap='Blues', )\n",
    "plt.title('Feature Correlation Heat Map\\n', size=30)\n",
    "plt.savefig('feature_heatmap.png', Transparent=True)\n",
    "'''"
   ]
  },
  {
   "cell_type": "markdown",
   "metadata": {},
   "source": [
    "### Train, test split\n",
    "\n",
    "Make a training data subset and a validation data subset\n",
    "\n",
    "Then make a balanced training dataset using smote"
   ]
  },
  {
   "cell_type": "code",
   "execution_count": 6,
   "metadata": {},
   "outputs": [],
   "source": [
    "# Split the original dataset into train and validation groups\n",
    "#  set stratify to true so both classes are represented it the splits\n",
    "X_train, X_test, y_train, y_test = train_test_split(X, y, test_size=0.2, stratify=y)\n",
    "\n",
    "# Make a balance set for model training\n",
    "sm = SMOTE(random_state=42)\n",
    "X_train_smt, y_train_smt = sm.fit_resample(X_train, y_train)"
   ]
  },
  {
   "cell_type": "markdown",
   "metadata": {},
   "source": [
    "----\n",
    "\n",
    "### Baseline with Logistic Regression\n",
    "\n",
    "Start with a logistic regression model.\n",
    "\n",
    "Make a process pipeline to use the grid search cross validation tool"
   ]
  },
  {
   "cell_type": "code",
   "execution_count": 30,
   "metadata": {},
   "outputs": [],
   "source": [
    "sm = SMOTE(random_state=42)\n",
    "log_model = LogisticRegression()\n",
    "steps = [('smt', sm), ('LOG', log_model)]\n",
    "\n",
    "pipeline = Pipeline(steps) # define the pipeline object."
   ]
  },
  {
   "cell_type": "code",
   "execution_count": 31,
   "metadata": {},
   "outputs": [],
   "source": [
    "log_param_grid = {\n",
    "    'smt__random_state': [45],\n",
    "    'LOG__solver': ['liblinear'],\n",
    "    'LOG__C' : [0.001, 0.01, 0.02, 0.03, 0.07, 0.1, 0.5, 0.75, 1, 1.5, 3, 10, 20],\n",
    "    'LOG__penalty' : ['l1', 'l2']\n",
    "}"
   ]
  },
  {
   "cell_type": "code",
   "execution_count": 32,
   "metadata": {},
   "outputs": [],
   "source": [
    "log_grid = GridSearchCV(pipeline, param_grid=log_param_grid, scoring='f1', cv=5, n_jobs=-1)"
   ]
  },
  {
   "cell_type": "code",
   "execution_count": 33,
   "metadata": {},
   "outputs": [
    {
     "name": "stdout",
     "output_type": "stream",
     "text": [
      "score = 0.61\n",
      "{'LOG__C': 20, 'LOG__penalty': 'l2', 'LOG__solver': 'liblinear', 'smt__random_state': 45}\n"
     ]
    }
   ],
   "source": [
    "log_grid.fit(X_train_smt, y_train_smt)\n",
    "print(\"score = %3.2f\" %(log_grid.score(X_test,y_test)))\n",
    "print(log_grid.best_params_)"
   ]
  },
  {
   "cell_type": "markdown",
   "metadata": {},
   "source": [
    "----\n",
    "\n",
    "### KNN Model\n",
    "\n",
    "Build the pipeline for the cross validation and set the parameters to be scanned.\n"
   ]
  },
  {
   "cell_type": "code",
   "execution_count": 34,
   "metadata": {},
   "outputs": [],
   "source": [
    "from imblearn.pipeline import Pipeline\n",
    "sm = SMOTE(random_state=42)\n",
    "knn = KNeighborsClassifier()\n",
    "steps = [('smt', sm), ('KNN', knn)]\n",
    "\n",
    "pipeline = Pipeline(steps) # define the pipeline object."
   ]
  },
  {
   "cell_type": "markdown",
   "metadata": {},
   "source": [
    "Set the parameters for the pipeline steps"
   ]
  },
  {
   "cell_type": "code",
   "execution_count": 35,
   "metadata": {},
   "outputs": [],
   "source": [
    "knn_param_grid = {\n",
    "    'smt__random_state': [45],\n",
    "    'KNN__n_neighbors': [2, 4, 6, 8, 10],\n",
    "}\n"
   ]
  },
  {
   "cell_type": "markdown",
   "metadata": {},
   "source": [
    "Use grid search to find the optimum parameters for the Knn model"
   ]
  },
  {
   "cell_type": "code",
   "execution_count": 36,
   "metadata": {},
   "outputs": [],
   "source": [
    "knn_grid = GridSearchCV(pipeline, param_grid=knn_param_grid, scoring='f1', cv=5, n_jobs=-1)"
   ]
  },
  {
   "cell_type": "code",
   "execution_count": 37,
   "metadata": {},
   "outputs": [
    {
     "name": "stdout",
     "output_type": "stream",
     "text": [
      "score = 0.55\n",
      "{'KNN__n_neighbors': 6, 'smt__random_state': 45}\n"
     ]
    }
   ],
   "source": [
    "knn_grid.fit(X_train_smt, y_train_smt)\n",
    "print(\"score = %3.2f\" %(knn_grid.score(X_test,y_test)))\n",
    "print(knn_grid.best_params_)"
   ]
  },
  {
   "cell_type": "markdown",
   "metadata": {},
   "source": [
    "----\n",
    "\n",
    "## Random Forest Classifier\n",
    "\n",
    "Build the pipeline and search parameter grid for random forest"
   ]
  },
  {
   "cell_type": "code",
   "execution_count": 38,
   "metadata": {},
   "outputs": [],
   "source": [
    "sm = SMOTE(random_state=42)\n",
    "rf = RandomForestClassifier()\n",
    "steps = [('smt', sm), ('RFC', rf)]\n",
    "\n",
    "rf_pipeline = Pipeline(steps) # define the pipeline object."
   ]
  },
  {
   "cell_type": "code",
   "execution_count": 39,
   "metadata": {},
   "outputs": [],
   "source": [
    "rf_param_grid = {\n",
    "    'smt__random_state': [10],\n",
    "    'RFC__n_estimators': [50, 100, 150, 200, 1000],\n",
    "    'RFC__max_depth' : [2,3,4],\n",
    "    'RFC__max_features' : [5, 10, 15],\n",
    "    'RFC__criterion' : ['gini', 'entropy'],\n",
    "    'RFC__random_state' :[42]\n",
    "}"
   ]
  },
  {
   "cell_type": "code",
   "execution_count": 40,
   "metadata": {},
   "outputs": [],
   "source": [
    "rf_grid = GridSearchCV(rf_pipeline, param_grid=rf_param_grid, scoring='f1', cv=5, n_jobs=-1)"
   ]
  },
  {
   "cell_type": "code",
   "execution_count": 41,
   "metadata": {},
   "outputs": [
    {
     "name": "stdout",
     "output_type": "stream",
     "text": [
      "score = 0.60\n",
      "{'RFC__criterion': 'gini', 'RFC__max_depth': 4, 'RFC__max_features': 5, 'RFC__n_estimators': 1000, 'RFC__random_state': 42, 'smt__random_state': 10}\n"
     ]
    }
   ],
   "source": [
    "rf_grid.fit(X_train_smt, y_train_smt)\n",
    "print(\"score = %3.2f\" %(rf_grid.score(X_test,y_test)))\n",
    "print(rf_grid.best_params_)"
   ]
  },
  {
   "cell_type": "markdown",
   "metadata": {},
   "source": [
    "#### With Random Forest we can get a rating of relative feature importance."
   ]
  },
  {
   "cell_type": "code",
   "execution_count": 42,
   "metadata": {},
   "outputs": [
    {
     "data": {
      "text/plain": [
       "RandomForestClassifier(bootstrap=True, ccp_alpha=0.0, class_weight=None,\n",
       "                       criterion='entropy', max_depth=2, max_features=10,\n",
       "                       max_leaf_nodes=None, max_samples=None,\n",
       "                       min_impurity_decrease=0.0, min_impurity_split=None,\n",
       "                       min_samples_leaf=1, min_samples_split=2,\n",
       "                       min_weight_fraction_leaf=0.0, n_estimators=1000,\n",
       "                       n_jobs=None, oob_score=False, random_state=42, verbose=0,\n",
       "                       warm_start=False)"
      ]
     },
     "execution_count": 42,
     "metadata": {},
     "output_type": "execute_result"
    }
   ],
   "source": [
    "rf_best = RandomForestClassifier(max_depth=2, max_features=10, \\\n",
    "                n_estimators=1000, criterion='entropy', random_state=42)\n",
    "rf_best.fit(X_train_smt, y_train_smt)"
   ]
  },
  {
   "cell_type": "code",
   "execution_count": 43,
   "metadata": {},
   "outputs": [
    {
     "data": {
      "text/plain": [
       "array([0.00000000e+00, 1.45077393e-04, 3.50849366e-04, 1.43674115e-01,\n",
       "       4.00076106e-02, 0.00000000e+00, 0.00000000e+00, 1.61669088e-03,\n",
       "       0.00000000e+00, 5.48413428e-04, 5.90411752e-02, 8.07773354e-03,\n",
       "       6.08058857e-01, 1.38479478e-01])"
      ]
     },
     "execution_count": 43,
     "metadata": {},
     "output_type": "execute_result"
    }
   ],
   "source": [
    "rf_importances = rf_best.feature_importances_\n",
    "rf_importances"
   ]
  },
  {
   "cell_type": "code",
   "execution_count": 45,
   "metadata": {},
   "outputs": [
    {
     "data": {
      "image/png": "[encoded data removed]",
      "text/plain": [
       "<Figure size 1008x720 with 1 Axes>"
      ]
     },
     "metadata": {
      "needs_background": "light"
     },
     "output_type": "display_data"
    }
   ],
   "source": [
    "# Plot the feature importances of the forest\n",
    "indices = np.argsort(rf_importances)[::-1]\n",
    "index_labels = [X_train.columns[x] for x in indices]\n",
    "\n",
    "fig = plt.figure(figsize=[14,10])\n",
    "\n",
    "fig.patch.set_alpha(0.)\n",
    "\n",
    "plt.grid(0)\n",
    "plt.suptitle(\"Feature importances\\n\", size=30)\n",
    "plt.title(\"\\nFrom Random Forest Classifier\\n\", size=15)\n",
    "plt.xlabel('Feature', size=16)\n",
    "plt.xticks(fontsize=15)\n",
    "plt.yticks(fontsize=15)\n",
    "plt.ylabel('Relative Importance\\n(Range: 0-1, Feature Importance Total = 1)\\n', size=20)\n",
    "plt.bar(range(X_train.shape[1]), rf_importances[indices],\n",
    "       color=\"b\", align=\"center\")\n",
    "plt.xticks(range(X_train.shape[1]), labels=index_labels, rotation=90)\n",
    "plt.xlim([-1, X_train.shape[1]])\n",
    "plt.savefig('FeatureImportances.png', Transparent=True)\n",
    "plt.show()\n"
   ]
  },
  {
   "cell_type": "markdown",
   "metadata": {},
   "source": [
    "----\n",
    "\n",
    "### Support Vector Classifier\n",
    "\n",
    "Build the pipeline for SVC and define the parameters to search"
   ]
  },
  {
   "cell_type": "code",
   "execution_count": 26,
   "metadata": {},
   "outputs": [],
   "source": [
    "svc = SVC(probability=True)\n",
    "\n",
    "steps = [('smt', sm), ('SVC', svc)]\n",
    "\n",
    "svc_pipeline = Pipeline(steps) # define the pipeline object."
   ]
  },
  {
   "cell_type": "code",
   "execution_count": 27,
   "metadata": {},
   "outputs": [],
   "source": [
    "svc_param_grid = {\n",
    "    'smt__random_state': [10],\n",
    "    'SVC__kernel': ['linear', 'rbf'],\n",
    "    'SVC__C' : [0.5, 1, 1.5],\n",
    "    'SVC__random_state' :[42]\n",
    "}"
   ]
  },
  {
   "cell_type": "code",
   "execution_count": 28,
   "metadata": {},
   "outputs": [],
   "source": [
    "svc_grid = GridSearchCV(svc_pipeline, param_grid=svc_param_grid, scoring='f1', cv=5, n_jobs=-1)"
   ]
  },
  {
   "cell_type": "code",
   "execution_count": 29,
   "metadata": {},
   "outputs": [
    {
     "name": "stderr",
     "output_type": "stream",
     "text": [
      "/Users/maboals/opt/anaconda3/lib/python3.7/site-packages/joblib/externals/loky/process_executor.py:706: UserWarning: A worker stopped while some jobs were given to the executor. This can be caused by a too short worker timeout or by a memory leak.\n",
      "  \"timeout or by a memory leak.\", UserWarning\n"
     ]
    },
    {
     "name": "stdout",
     "output_type": "stream",
     "text": [
      "score = 0.63\n",
      "{'SVC__C': 1.5, 'SVC__kernel': 'rbf', 'SVC__random_state': 42, 'smt__random_state': 10}\n"
     ]
    }
   ],
   "source": [
    "svc_grid.fit(X_train, y_train)\n",
    "print(\"score = %3.2f\" %(svc_grid.score(X_test,y_test)))\n",
    "print(svc_grid.best_params_)"
   ]
  },
  {
   "cell_type": "markdown",
   "metadata": {},
   "source": [
    "----\n",
    "\n",
    "### Naive Bayes\n",
    "\n",
    "Configure the grid search for Naive Bayes"
   ]
  },
  {
   "cell_type": "code",
   "execution_count": 31,
   "metadata": {},
   "outputs": [],
   "source": [
    "nb = GaussianNB()\n",
    "# define the pipeline object.\n",
    "\n",
    "steps = [('smt', sm), ('NB', nb)]\n",
    "\n",
    "pipeline = Pipeline(steps) # define the pipeline object."
   ]
  },
  {
   "cell_type": "code",
   "execution_count": 32,
   "metadata": {},
   "outputs": [],
   "source": [
    "nb_param_grid = {\n",
    "    'smt__random_state': [45],\n",
    "    'NB__var_smoothing': [0.0, 0.5, 1.0, 1.5, 10, 20, 50]\n",
    "\n",
    "}"
   ]
  },
  {
   "cell_type": "code",
   "execution_count": 33,
   "metadata": {},
   "outputs": [],
   "source": [
    "nb_grid = GridSearchCV(pipeline, param_grid=nb_param_grid, scoring='f1', cv=5, n_jobs=-1)"
   ]
  },
  {
   "cell_type": "code",
   "execution_count": 34,
   "metadata": {},
   "outputs": [
    {
     "name": "stdout",
     "output_type": "stream",
     "text": [
      "score = 0.59\n",
      "{'NB__var_smoothing': 0.0, 'smt__random_state': 45}\n"
     ]
    }
   ],
   "source": [
    "nb_grid.fit(X_train, y_train)\n",
    "print(\"score = %3.2f\" %(nb_grid.score(X_test,y_test)))\n",
    "print(nb_grid.best_params_)"
   ]
  },
  {
   "cell_type": "code",
   "execution_count": 35,
   "metadata": {},
   "outputs": [
    {
     "data": {
      "text/plain": [
       "\"\\nrecall\\nscore = 0.78\\n{'NB__var_smoothing': 20, 'smt__random_state': 45}\\n\""
      ]
     },
     "execution_count": 35,
     "metadata": {},
     "output_type": "execute_result"
    }
   ],
   "source": [
    "'''\n",
    "recall\n",
    "score = 0.78\n",
    "{'NB__var_smoothing': 20, 'smt__random_state': 45}\n",
    "'''"
   ]
  },
  {
   "cell_type": "code",
   "execution_count": null,
   "metadata": {},
   "outputs": [],
   "source": []
  }
 ],
 "metadata": {
  "kernelspec": {
   "display_name": "Python 3",
   "language": "python",
   "name": "python3"
  },
  "language_info": {
   "codemirror_mode": {
    "name": "ipython",
    "version": 3
   },
   "file_extension": ".py",
   "mimetype": "text/x-python",
   "name": "python",
   "nbconvert_exporter": "python",
   "pygments_lexer": "ipython3",
   "version": "3.7.4"
  }
 },
 "nbformat": 4,
 "nbformat_minor": 4
}

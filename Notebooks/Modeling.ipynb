{
 "cells": [
  {
   "cell_type": "markdown",
   "metadata": {},
   "source": [
    "# Churn Project Preliminary Modeling"
   ]
  },
  {
   "cell_type": "markdown",
   "metadata": {},
   "source": [
    "### Logistic Regression - Baseline"
   ]
  },
  {
   "cell_type": "code",
   "execution_count": 1,
   "metadata": {},
   "outputs": [],
   "source": [
    "import os\n",
    "import sys\n",
    "import time\n",
    "\n",
    "import numpy as np\n",
    "import pandas as pd\n",
    "\n",
    "import matplotlib.pyplot as plt\n",
    "import seaborn as sns\n",
    "\n",
    "sys.path.append('/home/ubuntu/MyTools/src')\n",
    "from MLModelingTools import model_test, model_testN"
   ]
  },
  {
   "cell_type": "code",
   "execution_count": 2,
   "metadata": {},
   "outputs": [
    {
     "name": "stderr",
     "output_type": "stream",
     "text": [
      "/home/ubuntu/miniconda3/lib/python3.7/site-packages/sklearn/utils/deprecation.py:144: FutureWarning: The sklearn.metrics.classification module is  deprecated in version 0.22 and will be removed in version 0.24. The corresponding classes / functions should instead be imported from sklearn.metrics. Anything that cannot be imported from sklearn.metrics is now part of the private API.\n",
      "  warnings.warn(message, FutureWarning)\n"
     ]
    }
   ],
   "source": [
    "from sklearn.tree import DecisionTreeClassifier\n",
    "from sklearn.svm import LinearSVC\n",
    "from sklearn.svm import SVC\n",
    "from sklearn.ensemble import RandomForestClassifier\n",
    "from sklearn.linear_model import LogisticRegression\n",
    "from sklearn.neighbors import KNeighborsClassifier\n",
    "\n",
    "from sklearn.preprocessing import StandardScaler\n",
    "from sklearn.model_selection import train_test_split\n",
    "from sklearn.metrics import precision_score, recall_score, precision_recall_curve,f1_score, fbeta_score\n",
    "\n",
    "from sklearn.neighbors import KNeighborsClassifier\n",
    "from sklearn.metrics import accuracy_score\n",
    "\n",
    "from yellowbrick.classifier import ClassificationReport\n",
    "from sklearn.metrics import confusion_matrix\n",
    "\n",
    "from sklearn.model_selection import GridSearchCV"
   ]
  },
  {
   "cell_type": "markdown",
   "metadata": {},
   "source": [
    "Read the training data file.  This file was created by running the notebooks:\n",
    "* Telecom to SQL\n",
    "* Telecom clean and eda"
   ]
  },
  {
   "cell_type": "code",
   "execution_count": 3,
   "metadata": {
    "scrolled": true
   },
   "outputs": [
    {
     "data": {
      "text/plain": [
       "Index(['customerID', 'SeniorCitizen', 'Partner', 'Dependents', 'tenure',\n",
       "       'PhoneService', 'MultipleLines', 'OnlineSecurity', 'OnlineBackup',\n",
       "       'DeviceProtection', 'TechSupport', 'StreamingTV', 'StreamingMovies',\n",
       "       'PaperlessBilling', 'PaymentMethod', 'MonthlyCharges', 'TotalCharges',\n",
       "       'Churn', 'Month-to-month', 'One year', 'DSL', 'Fiber optic', 'Female'],\n",
       "      dtype='object')"
      ]
     },
     "execution_count": 3,
     "metadata": {},
     "output_type": "execute_result"
    }
   ],
   "source": [
    "# Read the csv file save by the clean/eda notebook\n",
    "train_df = pd.read_csv('../data/churn_train_clean.csv')\n",
    "\n",
    "\n",
    "# Sometimes the index column is read as an unnamed column, if so drop it\n",
    "if 'Unnamed: 0' in train_df.columns :\n",
    "    train_df = train_df.drop('Unnamed: 0', axis=1)\n",
    "    \n",
    "train_df.columns"
   ]
  },
  {
   "cell_type": "code",
   "execution_count": 4,
   "metadata": {},
   "outputs": [],
   "source": [
    "# Define which columns we're going to use in our modeling.\n",
    "train_columns = ['SeniorCitizen', 'Partner', 'Dependents', \\\n",
    "       'tenure', 'PhoneService', 'MultipleLines',  \\\n",
    "       'OnlineSecurity', 'OnlineBackup', 'DeviceProtection', 'TechSupport', \\\n",
    "       'StreamingTV', 'StreamingMovies', 'MonthlyCharges', 'TotalCharges', \\\n",
    "       'Month-to-month', 'One year', 'Fiber optic', 'Female']\n",
    "X = train_df[train_columns]\n",
    "y= train_df['Churn']"
   ]
  },
  {
   "cell_type": "markdown",
   "metadata": {},
   "source": [
    "### Balance the imbalanced dataset"
   ]
  },
  {
   "cell_type": "code",
   "execution_count": 5,
   "metadata": {},
   "outputs": [],
   "source": [
    "from imblearn.over_sampling import SMOTE\n",
    "sm = SMOTE(random_state=42)\n",
    "X_res, y_res = sm.fit_resample(X, y)"
   ]
  },
  {
   "cell_type": "code",
   "execution_count": null,
   "metadata": {},
   "outputs": [],
   "source": []
  },
  {
   "cell_type": "code",
   "execution_count": 6,
   "metadata": {},
   "outputs": [],
   "source": [
    "# Create a logistic regression model that we can use as a baseline\n",
    "model_1 = LogisticRegression(solver = 'liblinear', C=0.5)\n",
    "\n",
    "X_train, X_test, y_train, y_test = train_test_split(X_res, y_res, test_size=0.2)"
   ]
  },
  {
   "cell_type": "code",
   "execution_count": 7,
   "metadata": {},
   "outputs": [
    {
     "name": "stdout",
     "output_type": "stream",
     "text": [
      "0.7976878612716763\n"
     ]
    }
   ],
   "source": [
    "model_1.fit(X_train,y_train)\n",
    "y_hat = model_1.predict(X_test)\n",
    "print(accuracy_score(y_test, y_hat))"
   ]
  },
  {
   "cell_type": "code",
   "execution_count": 8,
   "metadata": {},
   "outputs": [],
   "source": [
    "def calc_roc_data(model, X_dat, y_dat, n_step) :\n",
    "    threshold_list = np.linspace(0, 1, n_step)\n",
    "    roc_data = []\n",
    "\n",
    "    for i, threshold in enumerate(threshold_list) :\n",
    "        y_predict = (model.predict_proba(X_dat)[:, 1] >= threshold)\n",
    "        confusion_m = confusion_matrix(y_dat, y_predict)\n",
    "        fpr = confusion_m[1][0] / (confusion_m[1][0]+confusion_m[1][1])\n",
    "        tpr = confusion_m[0][0] / (confusion_m[0][0]+confusion_m[0][1])\n",
    "        roc_data.append([threshold, fpr, tpr])\n",
    "    \n",
    "    return roc_data\n",
    "\n",
    "def cal_f_beta(tpr, fpr, beta) :\n",
    "    weighted_ave = (beta**2 * (tpr+1) * fpr) / (beta**2 + 1)\n",
    "    return (tpr*fpr) / weighted_ave"
   ]
  },
  {
   "cell_type": "code",
   "execution_count": 9,
   "metadata": {},
   "outputs": [],
   "source": [
    "test_dat = calc_roc_data(model_1, X_test, y_test, 20)"
   ]
  },
  {
   "cell_type": "code",
   "execution_count": 20,
   "metadata": {},
   "outputs": [],
   "source": [
    "x_plt_log = [test_dat[i][1] for i in range(len(test_dat))]\n",
    "y_plt_log = [test_dat[i][2] for i in range(len(test_dat))]\n"
   ]
  },
  {
   "cell_type": "code",
   "execution_count": 21,
   "metadata": {},
   "outputs": [
    {
     "data": {
      "text/plain": [
       "Text(0.5, 1.0, 'ROC\\n')"
      ]
     },
     "execution_count": 21,
     "metadata": {},
     "output_type": "execute_result"
    },
    {
     "data": {
      "image/png": "[encoded data removed]",
      "text/plain": [
       "<Figure size 576x396 with 1 Axes>"
      ]
     },
     "metadata": {},
     "output_type": "display_data"
    }
   ],
   "source": [
    "plt.plot(x_plt_log, y_plt_log)\n",
    "plt.plot([0,1],[0,1])\n",
    "plt.xlabel('\\nFalse Positive Rate')\n",
    "plt.ylabel('True Positive Rate\\n')\n",
    "plt.title('ROC\\n')"
   ]
  },
  {
   "cell_type": "markdown",
   "metadata": {},
   "source": [
    "### Create model validation pipeline and do grid search for KNN Model"
   ]
  },
  {
   "cell_type": "code",
   "execution_count": 22,
   "metadata": {},
   "outputs": [],
   "source": [
    "from imblearn.pipeline import Pipeline\n",
    "sm = SMOTE(random_state=42)\n",
    "knn = KNeighborsClassifier()\n",
    "steps = [('smt', sm), ('KNN', knn)]\n",
    "\n",
    "pipeline = Pipeline(steps) # define the pipeline object."
   ]
  },
  {
   "cell_type": "code",
   "execution_count": 23,
   "metadata": {},
   "outputs": [],
   "source": [
    "param_grid = {\n",
    "    'smt__random_state': [45],\n",
    "    'KNN__n_neighbors': [2, 4, 6, 8, 10],\n",
    "}\n"
   ]
  },
  {
   "cell_type": "code",
   "execution_count": 24,
   "metadata": {},
   "outputs": [],
   "source": [
    "grid = GridSearchCV(pipeline, param_grid=param_grid, cv=5)"
   ]
  },
  {
   "cell_type": "code",
   "execution_count": 25,
   "metadata": {},
   "outputs": [
    {
     "name": "stdout",
     "output_type": "stream",
     "text": [
      "score = 0.81\n",
      "{'KNN__n_neighbors': 4, 'smt__random_state': 45}\n"
     ]
    }
   ],
   "source": [
    "grid.fit(X_train, y_train)\n",
    "print(\"score = %3.2f\" %(grid.score(X_test,y_test)))\n",
    "print(grid.best_params_)\n",
    "#>>> score = 0.60\n",
    "#    {'SVM__C': 100, 'SVM__gamma': 0.1}"
   ]
  },
  {
   "cell_type": "code",
   "execution_count": 26,
   "metadata": {},
   "outputs": [],
   "source": [
    "knn = KNeighborsClassifier(n_neighbors=6)\n",
    "knn.fit(X_train, y_train)\n",
    "roc_data = calc_roc_data(knn, X_test, y_test, 20)\n",
    "x_plt_knn = [roc_data[i][1] for i in range(len(roc_data))]\n",
    "y_plt_knn = [roc_data[i][2] for i in range(len(roc_data))]"
   ]
  },
  {
   "cell_type": "code",
   "execution_count": 28,
   "metadata": {},
   "outputs": [
    {
     "data": {
      "text/plain": [
       "Text(0.5, 1.0, 'ROC for KNN (neighbors = 6\\n')"
      ]
     },
     "execution_count": 28,
     "metadata": {},
     "output_type": "execute_result"
    },
    {
     "data": {
      "image/png": "[encoded data removed]",
      "text/plain": [
       "<Figure size 576x396 with 1 Axes>"
      ]
     },
     "metadata": {},
     "output_type": "display_data"
    }
   ],
   "source": [
    "plt.plot(x_plt_knn, y_plt_knn)\n",
    "plt.plot(x_plt_log, y_plt_log, color='purple')\n",
    "plt.plot([0,1],[0,1])\n",
    "plt.xlabel('\\nFalse Positive Rate')\n",
    "plt.ylabel('True Positive Rate\\n')\n",
    "plt.title('ROC for KNN (neighbors = 6\\n')"
   ]
  },
  {
   "cell_type": "code",
   "execution_count": null,
   "metadata": {},
   "outputs": [],
   "source": []
  },
  {
   "cell_type": "code",
   "execution_count": 18,
   "metadata": {},
   "outputs": [
    {
     "data": {
      "text/plain": [
       "<Figure size 2400x1650 with 0 Axes>"
      ]
     },
     "metadata": {},
     "output_type": "display_data"
    },
    {
     "name": "stderr",
     "output_type": "stream",
     "text": [
      "findfont: Font family ['sans-serif'] not found. Falling back to DejaVu Sans.\n",
      "findfont: Font family ['sans-serif'] not found. Falling back to DejaVu Sans.\n"
     ]
    },
    {
     "data": {
      "image/png": "[encoded data removed]",
      "text/plain": [
       "<Figure size 864x576 with 2 Axes>"
      ]
     },
     "metadata": {},
     "output_type": "display_data"
    }
   ],
   "source": [
    "plt.figure(dpi=300)\n",
    "plt.figure(figsize = (12,8))\n",
    "sns.heatmap(logistic_confusion, cmap=plt.cm.Wistia, annot=True, square=True,\n",
    "           xticklabels=['Stay', 'Churn'],\n",
    "           yticklabels=['Stay', 'Churn'])\n",
    "\n",
    "plt.xlabel('Predicted Churn')\n",
    "plt.ylabel('Actual Churn')\n",
    "plt.title('Logistic Regression confusion matrix');"
   ]
  },
  {
   "cell_type": "code",
   "execution_count": null,
   "metadata": {},
   "outputs": [],
   "source": []
  },
  {
   "cell_type": "code",
   "execution_count": 28,
   "metadata": {},
   "outputs": [
    {
     "data": {
      "text/plain": [
       "'\\nvisualizer = ClassificationReport(model_1)\\n\\nvisualizer.fit(X_train, y_train)\\nvisualizer.score(X_test, y_test)\\nvisualizer.show()\\n'"
      ]
     },
     "execution_count": 28,
     "metadata": {},
     "output_type": "execute_result"
    }
   ],
   "source": [
    "'''\n",
    "visualizer = ClassificationReport(model_1)\n",
    "\n",
    "visualizer.fit(X_train, y_train)\n",
    "visualizer.score(X_test, y_test)\n",
    "visualizer.show()\n",
    "'''"
   ]
  },
  {
   "cell_type": "code",
   "execution_count": 29,
   "metadata": {},
   "outputs": [
    {
     "data": {
      "text/plain": [
       "'\\nfrom yellowbrick.features import parallel_coordinates\\nfrom yellowbrick.classifier import classification_report\\nfrom yellowbrick.features import Rank2D\\n\\nvisualizer = Rank2D(algorithm=\"pearson\")\\nvisualizer.fit_transform(X)\\nvisualizer.show()\\n\\n# Displays parallel coordinates\\n#g = parallel_coordinates(X, y)\\n\\n# Displays classification report\\n#g = classification_report(LogisticRegression(), X, y)\\n'"
      ]
     },
     "execution_count": 29,
     "metadata": {},
     "output_type": "execute_result"
    }
   ],
   "source": [
    "'''\n",
    "from yellowbrick.features import parallel_coordinates\n",
    "from yellowbrick.classifier import classification_report\n",
    "from yellowbrick.features import Rank2D\n",
    "\n",
    "visualizer = Rank2D(algorithm=\"pearson\")\n",
    "visualizer.fit_transform(X)\n",
    "visualizer.show()\n",
    "\n",
    "# Displays parallel coordinates\n",
    "#g = parallel_coordinates(X, y)\n",
    "\n",
    "# Displays classification report\n",
    "#g = classification_report(LogisticRegression(), X, y)\n",
    "'''"
   ]
  },
  {
   "cell_type": "code",
   "execution_count": null,
   "metadata": {},
   "outputs": [],
   "source": []
  }
 ],
 "metadata": {
  "kernelspec": {
   "display_name": "Python 3",
   "language": "python",
   "name": "python3"
  },
  "language_info": {
   "codemirror_mode": {
    "name": "ipython",
    "version": 3
   },
   "file_extension": ".py",
   "mimetype": "text/x-python",
   "name": "python",
   "nbconvert_exporter": "python",
   "pygments_lexer": "ipython3",
   "version": "3.7.4"
  }
 },
 "nbformat": 4,
 "nbformat_minor": 4
}

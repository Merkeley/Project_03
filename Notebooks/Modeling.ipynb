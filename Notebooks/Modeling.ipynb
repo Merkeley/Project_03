{
 "cells": [
  {
   "cell_type": "markdown",
   "metadata": {},
   "source": [
    "# Churn Project Preliminary Modeling"
   ]
  },
  {
   "cell_type": "markdown",
   "metadata": {},
   "source": [
    "### Logistic Regression - Baseline"
   ]
  },
  {
   "cell_type": "code",
   "execution_count": 35,
   "metadata": {},
   "outputs": [],
   "source": [
    "import os\n",
    "import sys\n",
    "import time\n",
    "\n",
    "import numpy as np\n",
    "import pandas as pd\n",
    "\n",
    "import matplotlib.pyplot as plt\n",
    "import seaborn as sns\n",
    "\n",
    "sys.path.append('/home/ubuntu/src')\n",
    "from MLModelingTools import model_test, model_testN"
   ]
  },
  {
   "cell_type": "code",
   "execution_count": 32,
   "metadata": {},
   "outputs": [],
   "source": [
    "from sklearn.tree import DecisionTreeClassifier\n",
    "from sklearn.svm import LinearSVC\n",
    "from sklearn.svm import SVC\n",
    "from sklearn.ensemble import RandomForestClassifier\n",
    "from sklearn.linear_model import LogisticRegression\n",
    "from sklearn.neighbors import KNeighborsClassifier\n",
    "from sklearn.model_selection import train_test_split\n",
    "from sklearn.metrics import precision_score, recall_score, precision_recall_curve,f1_score, fbeta_score\n",
    "\n",
    "from yellowbrick.classifier import ClassificationReport\n",
    "from sklearn.metrics import confusion_matrix"
   ]
  },
  {
   "cell_type": "markdown",
   "metadata": {},
   "source": [
    "Read the training data file.  This file was created by running the notebooks:\n",
    "* Telecom to SQL\n",
    "* Telecom clean and eda"
   ]
  },
  {
   "cell_type": "code",
   "execution_count": 18,
   "metadata": {},
   "outputs": [
    {
     "data": {
      "text/plain": [
       "Index(['customerID', 'SeniorCitizen', 'Partner', 'Dependents', 'tenure',\n",
       "       'PhoneService', 'MultipleLines', 'OnlineSecurity', 'OnlineBackup',\n",
       "       'DeviceProtection', 'TechSupport', 'StreamingTV', 'StreamingMovies',\n",
       "       'PaperlessBilling', 'PaymentMethod', 'MonthlyCharges', 'TotalCharges',\n",
       "       'Churn', 'Month-to-month', 'One year', 'Fiber optic', 'No', 'Female'],\n",
       "      dtype='object')"
      ]
     },
     "execution_count": 18,
     "metadata": {},
     "output_type": "execute_result"
    }
   ],
   "source": [
    "# Read the csv file save by the clean/eda notebook\n",
    "train_df = pd.read_csv('../data/churn_train_clean.csv')\n",
    "\n",
    "\n",
    "# Sometimes the index column is read as an unnamed column, if so drop it\n",
    "if 'Unnamed: 0' in train_df.columns :\n",
    "    train_df = train_df.drop('Unnamed: 0', axis=1)\n",
    "    \n",
    "train_df.columns"
   ]
  },
  {
   "cell_type": "code",
   "execution_count": 22,
   "metadata": {},
   "outputs": [],
   "source": [
    "# Define which columns we're going to use in our modeling.\n",
    "train_columns = ['SeniorCitizen', 'Partner', 'Dependents', \\\n",
    "       'tenure', 'PhoneService', 'MultipleLines',  \\\n",
    "       'OnlineSecurity', 'OnlineBackup', 'DeviceProtection', 'TechSupport', \\\n",
    "       'StreamingTV', 'StreamingMovies', 'MonthlyCharges', 'TotalCharges', \\\n",
    "       'Month-to-month', 'One year', 'Fiber optic', 'No', 'Female']\n",
    "X = train_df[train_columns]\n",
    "y= train_df['Churn']"
   ]
  },
  {
   "cell_type": "code",
   "execution_count": 30,
   "metadata": {},
   "outputs": [],
   "source": [
    "# Create a logistic regression model that we can use as a baseline\n",
    "model_1 = LogisticRegression(solver = 'liblinear', C=0.2)\n",
    "\n",
    "X_train, X_test, y_train, y_test = train_test_split(X, y, test_size=0.2)"
   ]
  },
  {
   "cell_type": "code",
   "execution_count": 38,
   "metadata": {},
   "outputs": [],
   "source": [
    "model_1.fit(X_train,y_train)\n",
    "logistic_confusion = confusion_matrix(y_test, model_1.predict(X_test))"
   ]
  },
  {
   "cell_type": "code",
   "execution_count": 46,
   "metadata": {},
   "outputs": [
    {
     "data": {
      "text/plain": [
       "<Figure size 2400x1650 with 0 Axes>"
      ]
     },
     "metadata": {},
     "output_type": "display_data"
    },
    {
     "data": {
      "image/png": "[encoded data removed]",
      "text/plain": [
       "<Figure size 864x576 with 2 Axes>"
      ]
     },
     "metadata": {},
     "output_type": "display_data"
    }
   ],
   "source": [
    "plt.figure(dpi=300)\n",
    "plt.figure(figsize = (12,8))\n",
    "sns.heatmap(logistic_confusion, cmap=plt.cm.Wistia, annot=True, square=True,\n",
    "           xticklabels=['Stay', 'Churn'],\n",
    "           yticklabels=['Stay', 'Churn'])\n",
    "\n",
    "plt.xlabel('Predicted Churn')\n",
    "plt.ylabel('Actual Churn')\n",
    "plt.title('Logistic Regression confusion matrix');"
   ]
  },
  {
   "cell_type": "code",
   "execution_count": null,
   "metadata": {},
   "outputs": [],
   "source": []
  },
  {
   "cell_type": "code",
   "execution_count": 28,
   "metadata": {},
   "outputs": [
    {
     "data": {
      "text/plain": [
       "'\\nvisualizer = ClassificationReport(model_1)\\n\\nvisualizer.fit(X_train, y_train)\\nvisualizer.score(X_test, y_test)\\nvisualizer.show()\\n'"
      ]
     },
     "execution_count": 28,
     "metadata": {},
     "output_type": "execute_result"
    }
   ],
   "source": [
    "'''\n",
    "visualizer = ClassificationReport(model_1)\n",
    "\n",
    "visualizer.fit(X_train, y_train)\n",
    "visualizer.score(X_test, y_test)\n",
    "visualizer.show()\n",
    "'''"
   ]
  },
  {
   "cell_type": "code",
   "execution_count": 29,
   "metadata": {},
   "outputs": [
    {
     "data": {
      "text/plain": [
       "'\\nfrom yellowbrick.features import parallel_coordinates\\nfrom yellowbrick.classifier import classification_report\\nfrom yellowbrick.features import Rank2D\\n\\nvisualizer = Rank2D(algorithm=\"pearson\")\\nvisualizer.fit_transform(X)\\nvisualizer.show()\\n\\n# Displays parallel coordinates\\n#g = parallel_coordinates(X, y)\\n\\n# Displays classification report\\n#g = classification_report(LogisticRegression(), X, y)\\n'"
      ]
     },
     "execution_count": 29,
     "metadata": {},
     "output_type": "execute_result"
    }
   ],
   "source": [
    "'''\n",
    "from yellowbrick.features import parallel_coordinates\n",
    "from yellowbrick.classifier import classification_report\n",
    "from yellowbrick.features import Rank2D\n",
    "\n",
    "visualizer = Rank2D(algorithm=\"pearson\")\n",
    "visualizer.fit_transform(X)\n",
    "visualizer.show()\n",
    "\n",
    "# Displays parallel coordinates\n",
    "#g = parallel_coordinates(X, y)\n",
    "\n",
    "# Displays classification report\n",
    "#g = classification_report(LogisticRegression(), X, y)\n",
    "'''"
   ]
  },
  {
   "cell_type": "code",
   "execution_count": null,
   "metadata": {},
   "outputs": [],
   "source": []
  }
 ],
 "metadata": {
  "kernelspec": {
   "display_name": "Python 3",
   "language": "python",
   "name": "python3"
  },
  "language_info": {
   "codemirror_mode": {
    "name": "ipython",
    "version": 3
   },
   "file_extension": ".py",
   "mimetype": "text/x-python",
   "name": "python",
   "nbconvert_exporter": "python",
   "pygments_lexer": "ipython3",
   "version": "3.7.4"
  }
 },
 "nbformat": 4,
 "nbformat_minor": 4
}

{
 "cells": [
  {
   "cell_type": "code",
   "execution_count": 9,
   "metadata": {},
   "outputs": [],
   "source": [
    "def p_balanced(instring) :\n",
    "    open_paren = 0;\n",
    "    for c in instring :\n",
    "        # check for open and closed parenthesis and count their opens\n",
    "        if c == '(' :\n",
    "            open_paren += 1\n",
    "        elif c == ')' :\n",
    "            open_paren -= 1\n",
    "        \n",
    "        # If our counter goes negative then we have reached an imbalance\n",
    "        # we can't recover from\n",
    "        if open_paren < 0 :\n",
    "            break;\n",
    "        \n",
    "    return open_paren == 0"
   ]
  },
  {
   "cell_type": "code",
   "execution_count": 10,
   "metadata": {},
   "outputs": [
    {
     "data": {
      "text/plain": [
       "False"
      ]
     },
     "execution_count": 10,
     "metadata": {},
     "output_type": "execute_result"
    }
   ],
   "source": [
    "p_balanced('(()()))(()')"
   ]
  },
  {
   "cell_type": "code",
   "execution_count": null,
   "metadata": {},
   "outputs": [],
   "source": []
  }
 ],
 "metadata": {
  "kernelspec": {
   "display_name": "Python 3",
   "language": "python",
   "name": "python3"
  },
  "language_info": {
   "codemirror_mode": {
    "name": "ipython",
    "version": 3
   },
   "file_extension": ".py",
   "mimetype": "text/x-python",
   "name": "python",
   "nbconvert_exporter": "python",
   "pygments_lexer": "ipython3",
   "version": "3.7.4"
  }
 },
 "nbformat": 4,
 "nbformat_minor": 4
}

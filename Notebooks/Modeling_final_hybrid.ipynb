{
 "cells": [
  {
   "cell_type": "markdown",
   "metadata": {},
   "source": [
    "# Telecom Churn Project \n",
    "\n",
    "## Hybrid Model Evaluation\n",
    "\n",
    "In this notebook I explore the development of a hybrid model.  The dataset has one feature that divides the population into two distinct groups.  The vast majority of customers who churn are on month-to-month contracts.  This made me wonder if we could use different models on each of these groups.\n",
    "\n",
    "I split the whole population into those on month-to-month contracts and those on other contracts.  I then did a cross validation model shearch on each of those groups.  The best models were put together into a new predictor that utilized each model depending on the contract length of the input sample.  The results are at the graphed in an ROC-AUC graph at the end of the notebook."
   ]
  },
  {
   "cell_type": "code",
   "execution_count": 1,
   "metadata": {},
   "outputs": [],
   "source": [
    "import os\n",
    "import sys\n",
    "import time\n",
    "\n",
    "import numpy as np\n",
    "import pandas as pd\n",
    "\n",
    "import matplotlib.pyplot as plt\n",
    "import matplotlib\n",
    "from mpl_toolkits.mplot3d import Axes3D\n",
    "import seaborn as sns\n",
    "\n",
    "import pickle\n",
    "\n",
    "sys.path.append('../src')\n",
    "from my_eval_tools import calc_roc_data\n",
    "from my_eval_tools import calc_hybrid_roc_data \n",
    "from my_eval_tools import hybrid_predict, hybrid_predict_proba\n",
    "from my_eval_tools import calc_pr_sweep\n",
    "from my_eval_tools import predict_sweep"
   ]
  },
  {
   "cell_type": "code",
   "execution_count": 2,
   "metadata": {},
   "outputs": [
    {
     "name": "stderr",
     "output_type": "stream",
     "text": [
      "/Users/maboals/opt/anaconda3/lib/python3.7/site-packages/sklearn/utils/deprecation.py:144: FutureWarning: The sklearn.metrics.classification module is  deprecated in version 0.22 and will be removed in version 0.24. The corresponding classes / functions should instead be imported from sklearn.metrics. Anything that cannot be imported from sklearn.metrics is now part of the private API.\n",
      "  warnings.warn(message, FutureWarning)\n",
      "Using TensorFlow backend.\n"
     ]
    }
   ],
   "source": [
    "from sklearn.tree import DecisionTreeClassifier\n",
    "from sklearn.svm import LinearSVC\n",
    "from sklearn.svm import SVC\n",
    "from sklearn.ensemble import RandomForestClassifier\n",
    "from sklearn.linear_model import LogisticRegression\n",
    "from sklearn.neighbors import KNeighborsClassifier\n",
    "from sklearn.naive_bayes import GaussianNB\n",
    "\n",
    "from sklearn.preprocessing import StandardScaler\n",
    "from sklearn.model_selection import train_test_split\n",
    "from sklearn.metrics import precision_score, recall_score, precision_recall_curve,f1_score\n",
    "from sklearn.metrics import roc_auc_score, fbeta_score, confusion_matrix\n",
    "\n",
    "from sklearn.neighbors import KNeighborsClassifier\n",
    "from sklearn.metrics import accuracy_score\n",
    "\n",
    "from yellowbrick.classifier import ClassificationReport\n",
    "from sklearn.metrics import confusion_matrix\n",
    "\n",
    "from imblearn.over_sampling import SMOTE\n",
    "from imblearn.pipeline import Pipeline\n",
    "\n",
    "from sklearn.model_selection import GridSearchCV"
   ]
  },
  {
   "cell_type": "markdown",
   "metadata": {},
   "source": [
    "----\n",
    "\n",
    "Read the training data file.  This file was created by running the notebooks:\n",
    "\n",
    "* Telecom to SQL\n",
    "* Telecom clean and eda"
   ]
  },
  {
   "cell_type": "code",
   "execution_count": 3,
   "metadata": {},
   "outputs": [],
   "source": [
    "# Read the csv file save by the clean/eda notebook\n",
    "train_df = pd.read_csv('../data/churn_train_clean.csv').drop('Unnamed: 0', axis=1)"
   ]
  },
  {
   "cell_type": "markdown",
   "metadata": {},
   "source": [
    "\n",
    "Build the two distinct groups from this dataset.\n"
   ]
  },
  {
   "cell_type": "code",
   "execution_count": 4,
   "metadata": {},
   "outputs": [],
   "source": [
    "# Define which columns we're going to use in our modeling.\n",
    "train_columns1 = ['Month-to-month', 'SeniorCitizen', 'Partner', 'Dependents', \\\n",
    "       'tenure', 'PhoneService', 'MultipleLines',  \\\n",
    "       'OnlineSecurity', 'OnlineBackup', 'DeviceProtection', 'TechSupport', \\\n",
    "       'StreamingTV', 'StreamingMovies', 'MonthlyCharges', 'TotalCharges', \\\n",
    "       'Fiber optic', 'Female']\n",
    "\n",
    "train_columns2 = train_columns1.copy()\n",
    "train_columns2.append('Churn')\n",
    "\n",
    "train_columns = train_columns1\n",
    "\n",
    "X = train_df[train_columns]\n",
    "y = train_df['Churn']\n",
    "\n",
    "month_df = train_df[train_df['Month-to-month'] == 1]\n",
    "not_month_df = train_df[train_df['Month-to-month'] == 0]\n",
    "\n",
    "X_month = month_df[train_columns].drop('Month-to-month', axis=1)\n",
    "y_month= month_df['Churn']\n",
    "\n",
    "X_not_month = not_month_df[train_columns].drop('Month-to-month', axis=1)\n",
    "y_not_month = not_month_df['Churn']"
   ]
  },
  {
   "cell_type": "code",
   "execution_count": 5,
   "metadata": {},
   "outputs": [],
   "source": [
    "X_train, X_test, y_train, y_test = train_test_split(X, y, test_size=0.2)"
   ]
  },
  {
   "cell_type": "code",
   "execution_count": 6,
   "metadata": {},
   "outputs": [],
   "source": [
    "# Split the original dataset into train and validation groups\n",
    "#  set stratify to true so both classes are represented it the splits\n",
    "X_nm_train, X_nm_test, y_nm_train, y_nm_test = train_test_split(X_not_month, y_not_month, test_size=0.2)\n",
    "\n",
    "\n",
    "X_m_train, X_m_test, y_m_train, y_m_test = train_test_split(X_month, y_month, test_size=0.2)"
   ]
  },
  {
   "cell_type": "code",
   "execution_count": 7,
   "metadata": {},
   "outputs": [],
   "source": [
    "# Make a balance set for model training\n",
    "sm = SMOTE(random_state=42)\n",
    "X_train_month_smt, y_train_month_smt = sm.fit_resample(X_m_train, y_m_train)\n",
    "X_train_not_month_smt, y_train_not_month_smt = sm.fit_resample(X_nm_train, y_nm_train)\n",
    "X_train_smt, y_train_smt = sm.fit_resample(X_train, y_train)"
   ]
  },
  {
   "cell_type": "markdown",
   "metadata": {},
   "source": [
    "### Best model for Logistic Regression\n",
    "\n",
    "In this notebook we're going to explore using a hybrid model.  For customers with month to month contracts we will use a logistic regression model.  For customers with longer contracts we will use a random forest model."
   ]
  },
  {
   "cell_type": "code",
   "execution_count": 8,
   "metadata": {},
   "outputs": [
    {
     "name": "stdout",
     "output_type": "stream",
     "text": [
      "0.6649395509499136\n"
     ]
    }
   ],
   "source": [
    "log_best_month = LogisticRegression(C=20, penalty='l1', solver='liblinear', random_state=45)\n",
    "log_best_month.fit(X_train_month_smt,y_train_month_smt)\n",
    "log_y_hat_month = log_best_month.predict(X_m_test)\n",
    "print(accuracy_score(y_m_test, log_y_hat_month))"
   ]
  },
  {
   "cell_type": "markdown",
   "metadata": {},
   "source": [
    "score = 0.21\n",
    "{'RFC__criterion': 'gini', 'RFC__max_depth': 4, 'RFC__max_features': 5, 'RFC__n_estimators': 50, 'RFC__random_state': 42, 'smt__random_state': 10}\n",
    "\n",
    "score = 0.69\n",
    "{'RFC__criterion': 'entropy', 'RFC__max_depth': 4, 'RFC__max_features': 15, 'RFC__n_estimators': 1000, 'RFC__random_state': 42, 'smt__random_state': 10}"
   ]
  },
  {
   "cell_type": "code",
   "execution_count": 9,
   "metadata": {},
   "outputs": [
    {
     "name": "stdout",
     "output_type": "stream",
     "text": [
      "0.7322175732217573\n"
     ]
    }
   ],
   "source": [
    "rf_best_not_month = RandomForestClassifier(criterion='entropy', max_depth=4, max_features=15, \\\n",
    "        n_estimators=1000, random_state=42)\n",
    "rf_best_not_month.fit(X_train_not_month_smt, y_train_not_month_smt)\n",
    "rf_y_hat_not_month = rf_best_not_month.predict(X_nm_test)\n",
    "print(accuracy_score(y_nm_test, rf_y_hat_not_month))"
   ]
  },
  {
   "cell_type": "code",
   "execution_count": 10,
   "metadata": {},
   "outputs": [],
   "source": [
    "roc_data_hybrid = calc_hybrid_roc_data(log_best_month, rf_best_not_month, X_test, y_test, 20)"
   ]
  },
  {
   "cell_type": "code",
   "execution_count": 17,
   "metadata": {},
   "outputs": [],
   "source": [
    "# y_hat_hybrid = hybrid_predict(log_best_month, rf_best_not_month, X_test)\n",
    "y_hybrid_proba = hybrid_predict_proba(log_best_month, rf_best_not_month, X_test)\n",
    "y_hat_hybrid = hybrid_predict(log_best_month, rf_best_not_month, X_test)"
   ]
  },
  {
   "cell_type": "markdown",
   "metadata": {},
   "source": [
    "Let's build the original logistic regression model to compare on the AUC-ROC curve"
   ]
  },
  {
   "cell_type": "code",
   "execution_count": 12,
   "metadata": {},
   "outputs": [
    {
     "name": "stdout",
     "output_type": "stream",
     "text": [
      "0.7492904446546831\n"
     ]
    }
   ],
   "source": [
    "log_best = LogisticRegression(C=0.03, penalty='l2', solver='liblinear', random_state=45)\n",
    "log_best.fit(X_train_smt,y_train_smt)\n",
    "log_y_hat = log_best.predict(X_test)\n",
    "log_y_hat_proba = log_best.predict_proba(X_test)\n",
    "print(accuracy_score(y_test, log_y_hat))"
   ]
  },
  {
   "cell_type": "code",
   "execution_count": 13,
   "metadata": {},
   "outputs": [],
   "source": [
    "roc_data_log = calc_roc_data(log_best, X_test, y_test, 20)"
   ]
  },
  {
   "cell_type": "code",
   "execution_count": 14,
   "metadata": {},
   "outputs": [],
   "source": [
    "x_plt_hybrid = [roc_data_hybrid[i][1] for i in range(len(roc_data_hybrid))]\n",
    "y_plt_hybrid = [roc_data_hybrid[i][2] for i in range(len(roc_data_hybrid))]\n",
    "\n",
    "x_plt_log = [roc_data_log[i][1] for i in range(len(roc_data_log))]\n",
    "y_plt_log = [roc_data_log[i][2] for i in range(len(roc_data_log))]"
   ]
  },
  {
   "cell_type": "code",
   "execution_count": 15,
   "metadata": {},
   "outputs": [
    {
     "data": {
      "text/plain": [
       "0.7755125804397213"
      ]
     },
     "execution_count": 15,
     "metadata": {},
     "output_type": "execute_result"
    }
   ],
   "source": [
    "roc_auc_score(y_test, y_hybrid_proba[:,1])"
   ]
  },
  {
   "cell_type": "code",
   "execution_count": 18,
   "metadata": {},
   "outputs": [
    {
     "data": {
      "text/plain": [
       "0.5375722543352602"
      ]
     },
     "execution_count": 18,
     "metadata": {},
     "output_type": "execute_result"
    }
   ],
   "source": [
    "f1_score(y_test, y_hat_hybrid)"
   ]
  },
  {
   "cell_type": "code",
   "execution_count": 19,
   "metadata": {},
   "outputs": [
    {
     "data": {
      "text/plain": [
       "0.6992481203007519"
      ]
     },
     "execution_count": 19,
     "metadata": {},
     "output_type": "execute_result"
    }
   ],
   "source": [
    "recall_score(y_test, y_hat_hybrid)"
   ]
  },
  {
   "cell_type": "code",
   "execution_count": 69,
   "metadata": {},
   "outputs": [],
   "source": [
    "# Save some of this data for importing into the other notebook\n",
    "pickle.dump(roc_data_hybrid, open('roc_hybrid.pkl', 'wb'))"
   ]
  },
  {
   "cell_type": "code",
   "execution_count": 64,
   "metadata": {},
   "outputs": [
    {
     "data": {
      "text/plain": [
       "0.824099716764825"
      ]
     },
     "execution_count": 64,
     "metadata": {},
     "output_type": "execute_result"
    }
   ],
   "source": [
    "roc_auc_score(y_test, log_y_hat_proba[:,1])"
   ]
  },
  {
   "cell_type": "code",
   "execution_count": 65,
   "metadata": {},
   "outputs": [
    {
     "data": {
      "text/plain": [
       "Text(0.5, 1.0, 'ROC\\n')"
      ]
     },
     "execution_count": 65,
     "metadata": {},
     "output_type": "execute_result"
    },
    {
     "data": {
      "image/png": "[encoded data removed]",
      "text/plain": [
       "<Figure size 576x396 with 1 Axes>"
      ]
     },
     "metadata": {},
     "output_type": "display_data"
    }
   ],
   "source": [
    "plt.plot(x_plt_hybrid, y_plt_hybrid, color='orange')\n",
    "plt.plot(x_plt_log, y_plt_log, color='purple')\n",
    "plt.plot([0,1],[0,1], color='black', linestyle='--')\n",
    "plt.xlabel('\\nFalse Positive Rate')\n",
    "plt.ylabel('True Positive Rate\\n')\n",
    "plt.title('ROC\\n')"
   ]
  },
  {
   "cell_type": "code",
   "execution_count": null,
   "metadata": {},
   "outputs": [],
   "source": []
  }
 ],
 "metadata": {
  "kernelspec": {
   "display_name": "Python 3",
   "language": "python",
   "name": "python3"
  },
  "language_info": {
   "codemirror_mode": {
    "name": "ipython",
    "version": 3
   },
   "file_extension": ".py",
   "mimetype": "text/x-python",
   "name": "python",
   "nbconvert_exporter": "python",
   "pygments_lexer": "ipython3",
   "version": "3.7.4"
  }
 },
 "nbformat": 4,
 "nbformat_minor": 4
}

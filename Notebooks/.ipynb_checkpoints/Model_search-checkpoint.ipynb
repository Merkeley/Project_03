{
 "cells": [
  {
   "cell_type": "markdown",
   "metadata": {},
   "source": [
    "# Telecom Churn Identification Project\n",
    "\n",
    "## Preliminary Modeling and Grid Search\n",
    "\n",
    "This file uses grid search cross validation on each of the following models to find the best parameters for each.  Models tested are:<br>\n",
    "<ul>\n",
    "    <li>Logistic Regression</li>\n",
    "    <li>K Nearest Neighbors</li>\n",
    "    <li>Random Forest</li>\n",
    "    <li>Support Vector Classifier</li>\n",
    "    <li>Naive Bayes</li>\n",
    "</ul><br>\n",
    "I then compare common metrics for each of the models for use in final model evaluation.\n"
   ]
  },
  {
   "cell_type": "markdown",
   "metadata": {},
   "source": [
    "----\n",
    "\n",
    "#### Import the tools we need\n",
    "\n",
    "----"
   ]
  },
  {
   "cell_type": "code",
   "execution_count": 24,
   "metadata": {},
   "outputs": [],
   "source": [
    "import os\n",
    "import sys\n",
    "import time\n",
    "\n",
    "import numpy as np\n",
    "import pandas as pd\n",
    "\n",
    "import matplotlib.pyplot as plt\n",
    "import matplotlib\n",
    "from mpl_toolkits.mplot3d import Axes3D\n",
    "import seaborn as sns\n",
    "\n",
    "#import plotly.express as px\n",
    "#import plotly.figure_factory as ff\n",
    "#import plotly.graph_objs as go\n",
    "\n",
    "sys.path.append('/Users/maboals/Documents/Work/Programming/PyStuff/MyTools/src')\n",
    "from MLModelingTools import model_test, model_testN\n",
    "\n",
    "sys.path.append('../src')\n",
    "from my_eval_tools import calc_roc_data\n",
    "from my_eval_tools import calc_hybrid_roc_data \n",
    "from my_eval_tools import hybrid_predict, hybrid_predict_proba\n",
    "from my_eval_tools import calc_pr_sweep\n",
    "from my_eval_tools import predict_sweep\n"
   ]
  },
  {
   "cell_type": "code",
   "execution_count": 25,
   "metadata": {},
   "outputs": [],
   "source": [
    "from sklearn.tree import DecisionTreeClassifier\n",
    "from sklearn.svm import LinearSVC\n",
    "from sklearn.svm import SVC\n",
    "from sklearn.ensemble import RandomForestClassifier\n",
    "from sklearn.linear_model import LogisticRegression\n",
    "from sklearn.neighbors import KNeighborsClassifier\n",
    "from sklearn.naive_bayes import GaussianNB\n",
    "\n",
    "from sklearn.preprocessing import StandardScaler\n",
    "from sklearn.model_selection import train_test_split\n",
    "from sklearn.metrics import precision_score, recall_score, precision_recall_curve,f1_score, fbeta_score\n",
    "\n",
    "from sklearn.neighbors import KNeighborsClassifier\n",
    "from sklearn.metrics import accuracy_score\n",
    "\n",
    "from yellowbrick.classifier import ClassificationReport\n",
    "from sklearn.metrics import confusion_matrix\n",
    "\n",
    "from imblearn.over_sampling import SMOTE\n",
    "from imblearn.pipeline import Pipeline\n",
    "\n",
    "from sklearn.model_selection import GridSearchCV"
   ]
  },
  {
   "cell_type": "markdown",
   "metadata": {},
   "source": [
    "----\n",
    "\n",
    "## Training Data\n",
    "\n",
    "\n",
    "----\n",
    "\n",
    "Read the training data file.  This file was created by running the notebooks:\n",
    "* Telecom to SQL\n",
    "* Telecom clean and eda"
   ]
  },
  {
   "cell_type": "code",
   "execution_count": 26,
   "metadata": {},
   "outputs": [
    {
     "data": {
      "text/plain": [
       "Index(['customerID', 'SeniorCitizen', 'Partner', 'Dependents', 'tenure',\n",
       "       'PhoneService', 'MultipleLines', 'OnlineSecurity', 'OnlineBackup',\n",
       "       'DeviceProtection', 'TechSupport', 'StreamingTV', 'StreamingMovies',\n",
       "       'PaperlessBilling', 'PaymentMethod', 'MonthlyCharges', 'TotalCharges',\n",
       "       'Churn', 'Month-to-month', 'One year', 'DSL', 'Fiber optic', 'Female'],\n",
       "      dtype='object')"
      ]
     },
     "execution_count": 26,
     "metadata": {},
     "output_type": "execute_result"
    }
   ],
   "source": [
    "# Read the csv file save by the clean/eda notebook\n",
    "train_df = pd.read_csv('../data/churn_train_clean.csv')\n",
    "\n",
    "\n",
    "# Sometimes the index column is read as an unnamed column, if so drop it\n",
    "if 'Unnamed: 0' in train_df.columns :\n",
    "    train_df = train_df.drop('Unnamed: 0', axis=1)\n",
    "    \n",
    "train_df.columns"
   ]
  },
  {
   "cell_type": "code",
   "execution_count": 27,
   "metadata": {},
   "outputs": [],
   "source": [
    "# Define which columns we're going to use in our modeling.\n",
    "train_columns1 = ['SeniorCitizen', 'Partner', 'Dependents', \\\n",
    "       'tenure',   \\\n",
    "       'OnlineSecurity', 'OnlineBackup', 'DeviceProtection', 'TechSupport', \\\n",
    "       'StreamingTV', 'StreamingMovies', 'MonthlyCharges', 'TotalCharges', \\\n",
    "       'Month-to-month', 'Fiber optic'] #, 'One year', 'Female']\n",
    "\n",
    "train_columns2 = ['tenure', 'OnlineSecurity', 'Month-to-month', 'Fiber optic', 'MonthlyCharges']\n",
    "\n",
    "train_columns = train_columns1\n",
    "\n",
    "X = train_df[train_columns]\n",
    "y= train_df['Churn']"
   ]
  },
  {
   "cell_type": "code",
   "execution_count": 28,
   "metadata": {},
   "outputs": [
    {
     "ename": "NameError",
     "evalue": "name 'go' is not defined",
     "output_type": "error",
     "traceback": [
      "\u001b[0;31m---------------------------------------------------------------------------\u001b[0m",
      "\u001b[0;31mNameError\u001b[0m                                 Traceback (most recent call last)",
      "\u001b[0;32m<ipython-input-28-95ed5f887e28>\u001b[0m in \u001b[0;36m<module>\u001b[0;34m\u001b[0m\n\u001b[1;32m      2\u001b[0m \u001b[0mfig\u001b[0m \u001b[0;34m=\u001b[0m \u001b[0mplt\u001b[0m\u001b[0;34m.\u001b[0m\u001b[0mfigure\u001b[0m\u001b[0;34m(\u001b[0m\u001b[0mfigsize\u001b[0m\u001b[0;34m=\u001b[0m\u001b[0;34m[\u001b[0m\u001b[0;36m12\u001b[0m\u001b[0;34m,\u001b[0m\u001b[0;36m8\u001b[0m\u001b[0;34m]\u001b[0m\u001b[0;34m)\u001b[0m\u001b[0;34m\u001b[0m\u001b[0;34m\u001b[0m\u001b[0m\n\u001b[1;32m      3\u001b[0m \u001b[0;34m\u001b[0m\u001b[0m\n\u001b[0;32m----> 4\u001b[0;31m layout = go.Layout(paper_bgcolor = 'rgba(0,0,0,0)',\n\u001b[0m\u001b[1;32m      5\u001b[0m             \u001b[0mplot_bgcolor\u001b[0m \u001b[0;34m=\u001b[0m \u001b[0;34m'rgba(0,0,0,0)'\u001b[0m\u001b[0;34m,\u001b[0m\u001b[0;34m\u001b[0m\u001b[0;34m\u001b[0m\u001b[0m\n\u001b[1;32m      6\u001b[0m             width=800, height=800)\n",
      "\u001b[0;31mNameError\u001b[0m: name 'go' is not defined"
     ]
    },
    {
     "data": {
      "text/plain": [
       "<Figure size 864x576 with 0 Axes>"
      ]
     },
     "metadata": {},
     "output_type": "display_data"
    }
   ],
   "source": [
    "corr = train_df[['Churn']+train_columns].corr()\n",
    "fig = plt.figure(figsize=[12,8])\n",
    "\n",
    "layout = go.Layout(paper_bgcolor = 'rgba(0,0,0,0)',\n",
    "            plot_bgcolor = 'rgba(0,0,0,0)',\n",
    "            width=800, height=800)\n",
    "\n",
    "fig = go.Figure(data=go.Heatmap(\n",
    "                z=corr,\n",
    "                x=corr.columns,\n",
    "                y=corr.columns,\n",
    "                colorscale='Blues',\n",
    "                hoverongaps = False),\n",
    "                layout=layout)\n",
    "\n",
    "fig.update_layout(\n",
    "    title={\n",
    "        'text': \"Correlation Heatmap\",\n",
    "        'x': 0.5, 'y': 0.95,\n",
    "        'xanchor': 'center',\n",
    "        'yanchor': 'top'},\n",
    "    \n",
    "        font=dict(\n",
    "            family=\"Helvetica\",\n",
    "            size=16,\n",
    "            color=\"black\"\n",
    "        ))\n",
    "                    \n",
    "fig.show(render='png')\n",
    "\n",
    "'''\n",
    "fig.patch.set_alpha(0.)\n",
    "sns.set(font_scale=1.5)\n",
    "g = sns.heatmap(data=corr, cmap = \"Blues\")\n",
    "g.set_xticklabels(corr.columns, fontsize = 16)\n",
    "g.set_yticklabels(corr.columns, fontsize = 16)\n",
    "\n",
    "#sns.heatmap(corr, cmap='Blues', )\n",
    "plt.title('Feature Correlation Heat Map\\n', size=30)\n",
    "plt.savefig('feature_heatmap.png', Transparent=True)\n",
    "'''"
   ]
  },
  {
   "cell_type": "markdown",
   "metadata": {},
   "source": [
    "### Train, test split\n",
    "\n",
    "Make a training data subset and a validation data subset\n",
    "\n",
    "Then make a balanced training dataset using smote"
   ]
  },
  {
   "cell_type": "code",
   "execution_count": 29,
   "metadata": {},
   "outputs": [],
   "source": [
    "# Split the original dataset into train and validation groups\n",
    "#  set stratify to true so both classes are represented it the splits\n",
    "X_train, X_test, y_train, y_test = train_test_split(X, y, test_size=0.2, stratify=y)\n",
    "\n",
    "# Make a balance set for model training\n",
    "sm = SMOTE(random_state=42)\n",
    "X_train_smt, y_train_smt = sm.fit_resample(X_train, y_train)"
   ]
  },
  {
   "cell_type": "markdown",
   "metadata": {},
   "source": [
    "----\n",
    "\n",
    "### Baseline with Logistic Regression\n",
    "\n",
    "Start with a logistic regression model.\n",
    "\n",
    "Make a process pipeline to use the grid search cross validation tool"
   ]
  },
  {
   "cell_type": "code",
   "execution_count": 30,
   "metadata": {},
   "outputs": [],
   "source": [
    "sm = SMOTE(random_state=42)\n",
    "log_model = LogisticRegression()\n",
    "steps = [('smt', sm), ('LOG', log_model)]\n",
    "\n",
    "pipeline = Pipeline(steps) # define the pipeline object."
   ]
  },
  {
   "cell_type": "code",
   "execution_count": 31,
   "metadata": {},
   "outputs": [],
   "source": [
    "log_param_grid = {\n",
    "    'smt__random_state': [45],\n",
    "    'LOG__solver': ['liblinear'],\n",
    "    'LOG__C' : [0.001, 0.01, 0.02, 0.03, 0.07, 0.1, 0.5, 0.75, 1, 1.5, 3, 10, 20],\n",
    "    'LOG__penalty' : ['l1', 'l2']\n",
    "}"
   ]
  },
  {
   "cell_type": "code",
   "execution_count": 32,
   "metadata": {},
   "outputs": [],
   "source": [
    "log_grid = GridSearchCV(pipeline, param_grid=log_param_grid, scoring='f1', cv=5, n_jobs=-1)"
   ]
  },
  {
   "cell_type": "code",
   "execution_count": 33,
   "metadata": {},
   "outputs": [
    {
     "name": "stdout",
     "output_type": "stream",
     "text": [
      "score = 0.61\n",
      "{'LOG__C': 20, 'LOG__penalty': 'l2', 'LOG__solver': 'liblinear', 'smt__random_state': 45}\n"
     ]
    }
   ],
   "source": [
    "log_grid.fit(X_train_smt, y_train_smt)\n",
    "print(\"score = %3.2f\" %(log_grid.score(X_test,y_test)))\n",
    "print(log_grid.best_params_)"
   ]
  },
  {
   "cell_type": "markdown",
   "metadata": {},
   "source": [
    "----\n",
    "\n",
    "### KNN Model\n",
    "\n",
    "Build the pipeline for the cross validation and set the parameters to be scanned.\n"
   ]
  },
  {
   "cell_type": "code",
   "execution_count": 34,
   "metadata": {},
   "outputs": [],
   "source": [
    "from imblearn.pipeline import Pipeline\n",
    "sm = SMOTE(random_state=42)\n",
    "knn = KNeighborsClassifier()\n",
    "steps = [('smt', sm), ('KNN', knn)]\n",
    "\n",
    "pipeline = Pipeline(steps) # define the pipeline object."
   ]
  },
  {
   "cell_type": "markdown",
   "metadata": {},
   "source": [
    "Set the parameters for the pipeline steps"
   ]
  },
  {
   "cell_type": "code",
   "execution_count": 35,
   "metadata": {},
   "outputs": [],
   "source": [
    "knn_param_grid = {\n",
    "    'smt__random_state': [45],\n",
    "    'KNN__n_neighbors': [2, 4, 6, 8, 10],\n",
    "}\n"
   ]
  },
  {
   "cell_type": "markdown",
   "metadata": {},
   "source": [
    "Use grid search to find the optimum parameters for the Knn model"
   ]
  },
  {
   "cell_type": "code",
   "execution_count": 36,
   "metadata": {},
   "outputs": [],
   "source": [
    "knn_grid = GridSearchCV(pipeline, param_grid=knn_param_grid, scoring='f1', cv=5, n_jobs=-1)"
   ]
  },
  {
   "cell_type": "code",
   "execution_count": 37,
   "metadata": {},
   "outputs": [
    {
     "name": "stdout",
     "output_type": "stream",
     "text": [
      "score = 0.55\n",
      "{'KNN__n_neighbors': 6, 'smt__random_state': 45}\n"
     ]
    }
   ],
   "source": [
    "knn_grid.fit(X_train_smt, y_train_smt)\n",
    "print(\"score = %3.2f\" %(knn_grid.score(X_test,y_test)))\n",
    "print(knn_grid.best_params_)"
   ]
  },
  {
   "cell_type": "markdown",
   "metadata": {},
   "source": [
    "----\n",
    "\n",
    "## Random Forest Classifier\n",
    "\n",
    "Build the pipeline and search parameter grid for random forest"
   ]
  },
  {
   "cell_type": "code",
   "execution_count": 38,
   "metadata": {},
   "outputs": [],
   "source": [
    "sm = SMOTE(random_state=42)\n",
    "rf = RandomForestClassifier()\n",
    "steps = [('smt', sm), ('RFC', rf)]\n",
    "\n",
    "rf_pipeline = Pipeline(steps) # define the pipeline object."
   ]
  },
  {
   "cell_type": "code",
   "execution_count": 39,
   "metadata": {},
   "outputs": [],
   "source": [
    "rf_param_grid = {\n",
    "    'smt__random_state': [10],\n",
    "    'RFC__n_estimators': [50, 100, 150, 200, 1000],\n",
    "    'RFC__max_depth' : [2,3,4],\n",
    "    'RFC__max_features' : [5, 10, 15],\n",
    "    'RFC__criterion' : ['gini', 'entropy'],\n",
    "    'RFC__random_state' :[42]\n",
    "}"
   ]
  },
  {
   "cell_type": "code",
   "execution_count": 40,
   "metadata": {},
   "outputs": [],
   "source": [
    "rf_grid = GridSearchCV(rf_pipeline, param_grid=rf_param_grid, scoring='f1', cv=5, n_jobs=-1)"
   ]
  },
  {
   "cell_type": "code",
   "execution_count": 41,
   "metadata": {},
   "outputs": [
    {
     "name": "stdout",
     "output_type": "stream",
     "text": [
      "score = 0.60\n",
      "{'RFC__criterion': 'gini', 'RFC__max_depth': 4, 'RFC__max_features': 5, 'RFC__n_estimators': 1000, 'RFC__random_state': 42, 'smt__random_state': 10}\n"
     ]
    }
   ],
   "source": [
    "rf_grid.fit(X_train_smt, y_train_smt)\n",
    "print(\"score = %3.2f\" %(rf_grid.score(X_test,y_test)))\n",
    "print(rf_grid.best_params_)"
   ]
  },
  {
   "cell_type": "markdown",
   "metadata": {},
   "source": [
    "#### With Random Forest we can get a rating of relative feature importance."
   ]
  },
  {
   "cell_type": "code",
   "execution_count": 42,
   "metadata": {},
   "outputs": [
    {
     "data": {
      "text/plain": [
       "RandomForestClassifier(bootstrap=True, ccp_alpha=0.0, class_weight=None,\n",
       "                       criterion='entropy', max_depth=2, max_features=10,\n",
       "                       max_leaf_nodes=None, max_samples=None,\n",
       "                       min_impurity_decrease=0.0, min_impurity_split=None,\n",
       "                       min_samples_leaf=1, min_samples_split=2,\n",
       "                       min_weight_fraction_leaf=0.0, n_estimators=1000,\n",
       "                       n_jobs=None, oob_score=False, random_state=42, verbose=0,\n",
       "                       warm_start=False)"
      ]
     },
     "execution_count": 42,
     "metadata": {},
     "output_type": "execute_result"
    }
   ],
   "source": [
    "rf_best = RandomForestClassifier(max_depth=2, max_features=10, \\\n",
    "                n_estimators=1000, criterion='entropy', random_state=42)\n",
    "rf_best.fit(X_train_smt, y_train_smt)"
   ]
  },
  {
   "cell_type": "code",
   "execution_count": 43,
   "metadata": {},
   "outputs": [
    {
     "data": {
      "text/plain": [
       "array([0.00000000e+00, 1.45077393e-04, 3.50849366e-04, 1.43674115e-01,\n",
       "       4.00076106e-02, 0.00000000e+00, 0.00000000e+00, 1.61669088e-03,\n",
       "       0.00000000e+00, 5.48413428e-04, 5.90411752e-02, 8.07773354e-03,\n",
       "       6.08058857e-01, 1.38479478e-01])"
      ]
     },
     "execution_count": 43,
     "metadata": {},
     "output_type": "execute_result"
    }
   ],
   "source": [
    "rf_importances = rf_best.feature_importances_\n",
    "rf_importances"
   ]
  },
  {
   "cell_type": "code",
   "execution_count": 45,
   "metadata": {},
   "outputs": [
    {
     "data": {
      "image/png": "[encoded data removed]",
      "text/plain": [
       "<Figure size 1008x720 with 1 Axes>"
      ]
     },
     "metadata": {
      "needs_background": "light"
     },
     "output_type": "display_data"
    }
   ],
   "source": [
    "# Plot the feature importances of the forest\n",
    "indices = np.argsort(rf_importances)[::-1]\n",
    "index_labels = [X_train.columns[x] for x in indices]\n",
    "\n",
    "fig = plt.figure(figsize=[14,10])\n",
    "\n",
    "fig.patch.set_alpha(0.)\n",
    "\n",
    "plt.grid(0)\n",
    "plt.suptitle(\"Feature importances\\n\", size=30)\n",
    "plt.title(\"\\nFrom Random Forest Classifier\\n\", size=15)\n",
    "plt.xlabel('Feature', size=16)\n",
    "plt.xticks(fontsize=15)\n",
    "plt.yticks(fontsize=15)\n",
    "plt.ylabel('Relative Importance\\n(Range: 0-1, Feature Importance Total = 1)\\n', size=20)\n",
    "plt.bar(range(X_train.shape[1]), rf_importances[indices],\n",
    "       color=\"b\", align=\"center\")\n",
    "plt.xticks(range(X_train.shape[1]), labels=index_labels, rotation=90)\n",
    "plt.xlim([-1, X_train.shape[1]])\n",
    "plt.savefig('FeatureImportances.png', Transparent=True)\n",
    "plt.show()\n"
   ]
  },
  {
   "cell_type": "markdown",
   "metadata": {},
   "source": [
    "----\n",
    "\n",
    "### Support Vector Classifier\n",
    "\n",
    "Build the pipeline for SVC and define the parameters to search"
   ]
  },
  {
   "cell_type": "code",
   "execution_count": 26,
   "metadata": {},
   "outputs": [],
   "source": [
    "svc = SVC(probability=True)\n",
    "\n",
    "steps = [('smt', sm), ('SVC', svc)]\n",
    "\n",
    "svc_pipeline = Pipeline(steps) # define the pipeline object."
   ]
  },
  {
   "cell_type": "code",
   "execution_count": 27,
   "metadata": {},
   "outputs": [],
   "source": [
    "svc_param_grid = {\n",
    "    'smt__random_state': [10],\n",
    "    'SVC__kernel': ['linear', 'rbf'],\n",
    "    'SVC__C' : [0.5, 1, 1.5],\n",
    "    'SVC__random_state' :[42]\n",
    "}"
   ]
  },
  {
   "cell_type": "code",
   "execution_count": 28,
   "metadata": {},
   "outputs": [],
   "source": [
    "svc_grid = GridSearchCV(svc_pipeline, param_grid=svc_param_grid, scoring='f1', cv=5, n_jobs=-1)"
   ]
  },
  {
   "cell_type": "code",
   "execution_count": 29,
   "metadata": {},
   "outputs": [
    {
     "name": "stderr",
     "output_type": "stream",
     "text": [
      "/Users/maboals/opt/anaconda3/lib/python3.7/site-packages/joblib/externals/loky/process_executor.py:706: UserWarning: A worker stopped while some jobs were given to the executor. This can be caused by a too short worker timeout or by a memory leak.\n",
      "  \"timeout or by a memory leak.\", UserWarning\n"
     ]
    },
    {
     "name": "stdout",
     "output_type": "stream",
     "text": [
      "score = 0.63\n",
      "{'SVC__C': 1.5, 'SVC__kernel': 'rbf', 'SVC__random_state': 42, 'smt__random_state': 10}\n"
     ]
    }
   ],
   "source": [
    "svc_grid.fit(X_train, y_train)\n",
    "print(\"score = %3.2f\" %(svc_grid.score(X_test,y_test)))\n",
    "print(svc_grid.best_params_)"
   ]
  },
  {
   "cell_type": "markdown",
   "metadata": {},
   "source": [
    "----\n",
    "\n",
    "### Naive Bayes\n",
    "\n",
    "Configure the grid search for Naive Bayes"
   ]
  },
  {
   "cell_type": "code",
   "execution_count": 31,
   "metadata": {},
   "outputs": [],
   "source": [
    "nb = GaussianNB()\n",
    "# define the pipeline object.\n",
    "\n",
    "steps = [('smt', sm), ('NB', nb)]\n",
    "\n",
    "pipeline = Pipeline(steps) # define the pipeline object."
   ]
  },
  {
   "cell_type": "code",
   "execution_count": 32,
   "metadata": {},
   "outputs": [],
   "source": [
    "nb_param_grid = {\n",
    "    'smt__random_state': [45],\n",
    "    'NB__var_smoothing': [0.0, 0.5, 1.0, 1.5, 10, 20, 50]\n",
    "\n",
    "}"
   ]
  },
  {
   "cell_type": "code",
   "execution_count": 33,
   "metadata": {},
   "outputs": [],
   "source": [
    "nb_grid = GridSearchCV(pipeline, param_grid=nb_param_grid, scoring='f1', cv=5, n_jobs=-1)"
   ]
  },
  {
   "cell_type": "code",
   "execution_count": 34,
   "metadata": {},
   "outputs": [
    {
     "name": "stdout",
     "output_type": "stream",
     "text": [
      "score = 0.59\n",
      "{'NB__var_smoothing': 0.0, 'smt__random_state': 45}\n"
     ]
    }
   ],
   "source": [
    "nb_grid.fit(X_train, y_train)\n",
    "print(\"score = %3.2f\" %(nb_grid.score(X_test,y_test)))\n",
    "print(nb_grid.best_params_)"
   ]
  },
  {
   "cell_type": "code",
   "execution_count": 35,
   "metadata": {},
   "outputs": [
    {
     "data": {
      "text/plain": [
       "\"\\nrecall\\nscore = 0.78\\n{'NB__var_smoothing': 20, 'smt__random_state': 45}\\n\""
      ]
     },
     "execution_count": 35,
     "metadata": {},
     "output_type": "execute_result"
    }
   ],
   "source": [
    "'''\n",
    "recall\n",
    "score = 0.78\n",
    "{'NB__var_smoothing': 20, 'smt__random_state': 45}\n",
    "'''"
   ]
  },
  {
   "cell_type": "code",
   "execution_count": null,
   "metadata": {},
   "outputs": [],
   "source": []
  }
 ],
 "metadata": {
  "kernelspec": {
   "display_name": "Python 3",
   "language": "python",
   "name": "python3"
  },
  "language_info": {
   "codemirror_mode": {
    "name": "ipython",
    "version": 3
   },
   "file_extension": ".py",
   "mimetype": "text/x-python",
   "name": "python",
   "nbconvert_exporter": "python",
   "pygments_lexer": "ipython3",
   "version": "3.7.4"
  }
 },
 "nbformat": 4,
 "nbformat_minor": 4
}

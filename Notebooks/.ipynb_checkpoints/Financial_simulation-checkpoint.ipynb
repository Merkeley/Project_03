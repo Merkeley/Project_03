{
 "cells": [
  {
   "cell_type": "markdown",
   "metadata": {},
   "source": [
    "# Telecom Churn Project \n",
    "\n",
    "## A simple financial simulation\n",
    "\n",
    "After all the models were tested and a winner was selected it's always useful to look at how deploying a model might impact the business.  This notebook looks at a simple simulation of promotion cost, promotion acceptance and different thresholds for logistic regression classifier."
   ]
  },
  {
   "cell_type": "code",
   "execution_count": 35,
   "metadata": {},
   "outputs": [],
   "source": [
    "import os\n",
    "import sys\n",
    "import time\n",
    "\n",
    "import numpy as np\n",
    "import pandas as pd\n",
    "\n",
    "import matplotlib.pyplot as plt\n",
    "import matplotlib\n",
    "from mpl_toolkits.mplot3d import Axes3D\n",
    "import seaborn as sns\n",
    "\n",
    "import plotly.express as px\n",
    "import plotly.figure_factory as ff\n",
    "import plotly.graph_objs as go\n",
    "\n",
    "# These are tools that I created for model data generation\n",
    "sys.path.append('../src')\n",
    "from my_eval_tools import calc_roc_data\n",
    "from my_eval_tools import calc_hybrid_roc_data \n",
    "from my_eval_tools import hybrid_predict, hybrid_predict_proba\n",
    "from my_eval_tools import calc_pr_sweep\n",
    "from my_eval_tools import predict_sweep\n"
   ]
  },
  {
   "cell_type": "code",
   "execution_count": 36,
   "metadata": {},
   "outputs": [],
   "source": [
    "from sklearn.tree import DecisionTreeClassifier\n",
    "from sklearn.svm import LinearSVC\n",
    "from sklearn.svm import SVC\n",
    "from sklearn.ensemble import RandomForestClassifier\n",
    "from sklearn.linear_model import LogisticRegression\n",
    "from sklearn.neighbors import KNeighborsClassifier\n",
    "from sklearn.naive_bayes import GaussianNB\n",
    "\n",
    "from sklearn.preprocessing import StandardScaler\n",
    "from sklearn.model_selection import train_test_split\n",
    "from sklearn.metrics import precision_score, recall_score, precision_recall_curve,f1_score, fbeta_score, confusion_matrix\n",
    "\n",
    "from sklearn.neighbors import KNeighborsClassifier\n",
    "from sklearn.metrics import accuracy_score\n",
    "\n",
    "from yellowbrick.classifier import ClassificationReport\n",
    "from sklearn.metrics import confusion_matrix\n",
    "\n",
    "from imblearn.over_sampling import SMOTE\n",
    "from imblearn.pipeline import Pipeline\n",
    "\n",
    "from sklearn.model_selection import GridSearchCV"
   ]
  },
  {
   "cell_type": "markdown",
   "metadata": {},
   "source": [
    "Read the training data file.  This csv file was created from the original Telecom data file and was cleaned and scaled before it was put into a second csv file to make a milestone for this work.  Specifically, this file was created by running the notebooks:\n",
    "* Telecom to SQL\n",
    "* Telecom clean and eda"
   ]
  },
  {
   "cell_type": "code",
   "execution_count": 37,
   "metadata": {},
   "outputs": [],
   "source": [
    "# Read the csv file save by the clean/eda notebook\n",
    "train_df = pd.read_csv('../data/churn_train_clean.csv').drop('Unnamed: 0', axis=1)\n"
   ]
  },
  {
   "cell_type": "code",
   "execution_count": 38,
   "metadata": {},
   "outputs": [],
   "source": [
    "# Define which columns we're going to use in our modeling.\n",
    "train_columns1 = ['SeniorCitizen', 'Partner', 'Dependents', \\\n",
    "       'tenure', 'PhoneService', 'MultipleLines',  \\\n",
    "       'OnlineSecurity', 'OnlineBackup', 'DeviceProtection', 'TechSupport', \\\n",
    "       'StreamingTV', 'StreamingMovies', 'MonthlyCharges', 'TotalCharges', \\\n",
    "       'Month-to-month', 'One year', 'Fiber optic', 'Female']\n",
    "\n",
    "train_columns2 = ['SeniorCitizen', 'Partner', 'Dependents', \\\n",
    "       'tenure', 'PhoneService', 'MultipleLines',  \\\n",
    "       'OnlineSecurity', 'OnlineBackup', 'DeviceProtection', 'TechSupport', \\\n",
    "       'StreamingTV', 'StreamingMovies', \\\n",
    "       'Month-to-month', 'One year', 'Fiber optic', 'MonthlyCharges', 'Female']\n",
    "\n",
    "train_columns = train_columns2\n",
    "\n",
    "X = train_df[train_columns]\n",
    "y= train_df['Churn']"
   ]
  },
  {
   "cell_type": "code",
   "execution_count": 39,
   "metadata": {},
   "outputs": [],
   "source": [
    "# Split the original dataset into train and validation groups\n",
    "#  set stratify to true so both classes are represented it the splits\n",
    "X_train, X_test, y_train, y_test = train_test_split(X, y, test_size=0.2, stratify=y)\n",
    "\n",
    "# Make a balance set for model training\n",
    "sm = SMOTE(random_state=42)\n",
    "X_train_smt, y_train_smt = sm.fit_resample(X_train, y_train)"
   ]
  },
  {
   "cell_type": "code",
   "execution_count": 40,
   "metadata": {},
   "outputs": [
    {
     "data": {
      "text/plain": [
       "LogisticRegression(C=0.03, class_weight=None, dual=False, fit_intercept=True,\n",
       "                   intercept_scaling=1, l1_ratio=None, max_iter=100,\n",
       "                   multi_class='auto', n_jobs=None, penalty='l2',\n",
       "                   random_state=45, solver='liblinear', tol=0.0001, verbose=0,\n",
       "                   warm_start=False)"
      ]
     },
     "execution_count": 40,
     "metadata": {},
     "output_type": "execute_result"
    }
   ],
   "source": [
    "log_best = LogisticRegression(C=0.03, penalty='l2', solver='liblinear', random_state=45)\n",
    "log_best.fit(X_train_smt,y_train_smt)\n"
   ]
  },
  {
   "cell_type": "markdown",
   "metadata": {},
   "source": [
    "## Financial Implications\n",
    "\n",
    "Obviously doing nothing will mean siginificant loss of revenue for the company.  Conversely, offering an incentive to all customers would result in unnecessary expenses for content customers.  We need to find a happy middle ground.\n",
    "\n",
    "Average monthly charges per customer are $64.76.  Our full dataset has<br>\n",
    "> Yes    1869 <br>\n",
    "> No    5174 <br>\n",
    "\n",
    "Which translates to a 27% churn rate or a $121,036 potential loss in revenue.<br>\n",
    "\n",
    "Month to month contracts were highlighted as the most important feature by the Random Forest classifier.  This makes sense as month to month customers are most likely to actively price shop their service.  In the pilot test dataset the contract type breakdown is: <br>\n",
    "> Month-to-month    3875 <br>\n",
    "> One year    1473<br>\n",
    "> Two year   1695<br>\n",
    "\n",
    "Within each of these categories we see the following:\n",
    "\n",
    "<table style='width:50%', align='left'>\n",
    "    <tr>\n",
    "        <th>Contract</th>\n",
    "        <th>Churn</th>\n",
    "        <th></th>\n",
    "    </tr>\n",
    "    <tr>\n",
    "        <td>Month-to-month</td>\n",
    "        <td>No</td>\n",
    "        <td>2220</td>\n",
    "    </tr>\n",
    "     <tr> \n",
    "        <td> </td>\n",
    "        <td>Yes</td>\n",
    "        <td>1655</td>\n",
    "    </tr>\n",
    "    <tr> \n",
    "        <td>One year</td>\n",
    "        <td>No</td>\n",
    "        <td>1307</td>\n",
    "    </tr>\n",
    "    <tr> \n",
    "        <td> </td>\n",
    "        <td>Yes</td>\n",
    "        <td>166</td>\n",
    "    </tr>\n",
    "    <tr> \n",
    "        <td>Two year</td>\n",
    "        <td>No</td>\n",
    "        <td>1647</td>\n",
    "    </tr>\n",
    "    <tr> \n",
    "        <td></td>\n",
    "        <td>Yes</td>\n",
    "        <td>48</td>\n",
    "    </tr>\n",
    "</table><br><br><br><br><br><br><br><br><br><br><br>\n",
    "\n",
    "So even within the month to month contract group those who churn are only 43%.  If we can correctly identify those customers and target the incentive we can reduce the incentive costs without reducing our retention rate.\n",
    "\n",
    "\n",
    "So for an incentive plan:\n",
    "\n",
    "Churn Reduction = Base Churn Rate * Recall  * Acceptance Rate<br>\n",
    "<br>\n",
    "New Churn = Base Churn - Churn Reduction = Base Churn (1 - Recall * Acceptance)\n",
    "\n",
    "Incentive Cost = (tp + fp) / (tp + fp + fn + tn) * Acceptance Rate * Incentive Cost"
   ]
  },
  {
   "cell_type": "code",
   "execution_count": 42,
   "metadata": {},
   "outputs": [],
   "source": [
    "results = predict_sweep(log_best.predict_proba, X_test, y_test, 20)"
   ]
  },
  {
   "cell_type": "code",
   "execution_count": 43,
   "metadata": {},
   "outputs": [],
   "source": [
    "ave_monthly_charges = 64.76 # from the full dataset\n",
    "\n",
    "promo_cost = 0.04 * ave_monthly_charges\n",
    "promo_acceptance_rate = 0.5\n",
    "\n",
    "\n",
    "base_churn = 0.022 # 2.2 percent monthly churn\n",
    "customer_pop = 1869+5174\n",
    "\n",
    "\n",
    "incentive_cost_list = []\n",
    "churn_cost_list = []\n",
    "threshold_list = []\n",
    "total_cost_list = []\n",
    "\n",
    "base_churn_cost = base_churn * ave_monthly_charges * customer_pop\n",
    "\n",
    "for result in results :\n",
    "    threshold = result[0]\n",
    "    tn = result[1]\n",
    "    fp = result[2]\n",
    "    fn = result[3]\n",
    "    tp = result[4]\n",
    "    \n",
    "    new_churn = base_churn * ( 1 - tp / (tp + fn) * promo_acceptance_rate)\n",
    "\n",
    "    churn_cost = new_churn * ave_monthly_charges * customer_pop\n",
    "    \n",
    "    incentive_cost = (tp+fp)/(tp+fp+fn+tn) * promo_acceptance_rate * promo_cost * customer_pop\n",
    "    total_cost = churn_cost + incentive_cost\n",
    "    \n",
    "    churn_cost_list.append(churn_cost)\n",
    "    incentive_cost_list.append(incentive_cost)\n",
    "    threshold_list.append(threshold)\n",
    "    total_cost_list.append(total_cost)"
   ]
  },
  {
   "cell_type": "code",
   "execution_count": 44,
   "metadata": {},
   "outputs": [
    {
     "data": {
      "image/png": "[encoded data removed]",
      "text/plain": [
       "<Figure size 1008x576 with 1 Axes>"
      ]
     },
     "metadata": {
      "needs_background": "light"
     },
     "output_type": "display_data"
    }
   ],
   "source": [
    "fig = plt.figure(figsize = [14,8])\n",
    "\n",
    "fig.patch.set_alpha(0.)\n",
    "\n",
    "plt.plot(threshold_list, churn_cost_list, label='Churn cost')\n",
    "plt.plot(threshold_list, incentive_cost_list, label='Incentive cost')\n",
    "plt.plot(threshold_list, total_cost_list, label='Total cost')\n",
    "plt.plot([0,1],[base_churn_cost, base_churn_cost], label='Base', c='black')\n",
    "plt.ylabel('Cost ($)\\n', fontsize=15)\n",
    "plt.xlabel('\\nModel Probablity Threshold (0-1)', fontsize=15)\n",
    "plt.xticks(fontsize=12)\n",
    "plt.yticks(fontsize=12)\n",
    "plt.suptitle('Promotion/Churn Cost', fontsize=35)\n",
    "plt.title('As A Function Of Probability Threshold', fontsize='15')\n",
    "plt.legend(loc='best', fontsize=15)\n",
    "plt.savefig('Promotion Cost.png')"
   ]
  },
  {
   "cell_type": "code",
   "execution_count": 57,
   "metadata": {},
   "outputs": [],
   "source": [
    "# Calculate the \n",
    "\n",
    "y_predict = [1 if log_best.predict_proba(X_test)[x][1] > 0.6 else 0 for x in range(X_test.shape[0])]\n",
    "tn, fp, fn, tp = confusion_matrix(y_test, y_predict).ravel()"
   ]
  },
  {
   "cell_type": "code",
   "execution_count": 58,
   "metadata": {},
   "outputs": [
    {
     "data": {
      "text/plain": [
       "(647, 132, 110, 168)"
      ]
     },
     "execution_count": 58,
     "metadata": {},
     "output_type": "execute_result"
    }
   ],
   "source": [
    "tn, fp, fn, tp"
   ]
  },
  {
   "cell_type": "code",
   "execution_count": 59,
   "metadata": {},
   "outputs": [
    {
     "data": {
      "text/plain": [
       "0.28382213812677387"
      ]
     },
     "execution_count": 59,
     "metadata": {},
     "output_type": "execute_result"
    }
   ],
   "source": [
    "# What is the positive prediction rate\n",
    "(tp+fp)/(tn+fp+fn+tp)"
   ]
  },
  {
   "cell_type": "code",
   "execution_count": 60,
   "metadata": {},
   "outputs": [
    {
     "data": {
      "text/plain": [
       "0.56"
      ]
     },
     "execution_count": 60,
     "metadata": {},
     "output_type": "execute_result"
    }
   ],
   "source": [
    "precision = tp / (tp+fp)\n",
    "precision"
   ]
  },
  {
   "cell_type": "code",
   "execution_count": 61,
   "metadata": {},
   "outputs": [
    {
     "data": {
      "text/plain": [
       "0.60431654676259"
      ]
     },
     "execution_count": 61,
     "metadata": {},
     "output_type": "execute_result"
    }
   ],
   "source": [
    "recall = tp / (tp+fn)\n",
    "recall"
   ]
  },
  {
   "cell_type": "code",
   "execution_count": null,
   "metadata": {},
   "outputs": [],
   "source": []
  }
 ],
 "metadata": {
  "kernelspec": {
   "display_name": "Python 3",
   "language": "python",
   "name": "python3"
  },
  "language_info": {
   "codemirror_mode": {
    "name": "ipython",
    "version": 3
   },
   "file_extension": ".py",
   "mimetype": "text/x-python",
   "name": "python",
   "nbconvert_exporter": "python",
   "pygments_lexer": "ipython3",
   "version": "3.7.4"
  }
 },
 "nbformat": 4,
 "nbformat_minor": 4
}
